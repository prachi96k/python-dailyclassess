{
  "nbformat": 4,
  "nbformat_minor": 0,
  "metadata": {
    "colab": {
      "provenance": []
    },
    "kernelspec": {
      "name": "python3",
      "display_name": "Python 3"
    },
    "language_info": {
      "name": "python"
    }
  },
  "cells": [
    {
      "cell_type": "code",
      "execution_count": 7,
      "metadata": {
        "colab": {
          "base_uri": "https://localhost:8080/"
        },
        "id": "F2KQOMu2o9C8",
        "outputId": "f2212b15-30ad-488a-b031-ffab048afde2"
      },
      "outputs": [
        {
          "output_type": "stream",
          "name": "stdout",
          "text": [
            "['laptop', 39000, 'window', 'lenovo', 'bengluru', 'laptop', 39000, 'mac', 'lenovo', 'chikodi']\n",
            "2\n"
          ]
        }
      ],
      "source": [
        "ex=[\"laptop\", 39000,\"window\",\"lenovo\",\"bengluru\",\"laptop\",39000,\"mac\",\"lenovo\",\"chikodi\"]\n",
        "print(ex)\n",
        "print(ex.count(\"lenovo\"))"
      ]
    },
    {
      "cell_type": "code",
      "source": [
        "#inpt function\n",
        "a=10\n",
        "b=20\n",
        "print(a+b)\n",
        "\n",
        "#run time program\n",
        "x=int(input(\"enter x value:\"))\n",
        "y=int(input(\"enter y value\"))\n",
        "print(x+y)\n",
        "\n",
        "#addition of 10 and 20 value is =30\n",
        "x=10\n",
        "y=20\n",
        "print(\"addition of \",x,\"and\",y,\"value is =\",x+y)\n"
      ],
      "metadata": {
        "colab": {
          "base_uri": "https://localhost:8080/"
        },
        "id": "ROyYg0vnrBQQ",
        "outputId": "39c536ea-23ab-4e8c-da6a-b373b30bd6eb"
      },
      "execution_count": 19,
      "outputs": [
        {
          "output_type": "stream",
          "name": "stdout",
          "text": [
            "30\n",
            "enter x value:10 \n",
            "enter y value20\n",
            "30\n",
            "addition of  10 and 20 value is = 30\n"
          ]
        }
      ]
    },
    {
      "cell_type": "code",
      "source": [
        "first=float(input(\"enter first value:\"))\n",
        "second=float(input(\"enter second value:\"))\n",
        "print(first*second)\n",
        "\n",
        "first_name=input(\"enter first name\")\n",
        "last_name=input(\"enter the last name\")\n",
        "print(first_name+\" \"+last_name)\n",
        "\n",
        "#mul of 2 no\n",
        "\n",
        "i=int(input(\"enter the first value:\"))\n",
        "j=int(input(\"enter the second value\"))\n",
        "print(i*j)\n",
        "\n",
        "\n"
      ],
      "metadata": {
        "colab": {
          "base_uri": "https://localhost:8080/"
        },
        "id": "jtrUjf5xsA-m",
        "outputId": "f0977fd3-8c66-418b-bd9c-f13f884de4b4"
      },
      "execution_count": 25,
      "outputs": [
        {
          "output_type": "stream",
          "name": "stdout",
          "text": [
            "enter first value:10\n",
            "enter second value:5\n",
            "50.0\n",
            "enter first nameprachi\n",
            "enter the last namekamatagi\n",
            "prachi kamatagi\n",
            "enter the first value:7\n",
            "enter the second value6\n",
            "42\n"
          ]
        }
      ]
    },
    {
      "cell_type": "code",
      "source": [
        "i=input()\n",
        "j=input()\n",
        "print(i+\" \"+j)\n"
      ],
      "metadata": {
        "colab": {
          "base_uri": "https://localhost:8080/"
        },
        "id": "5osV6FgC2KYj",
        "outputId": "22432810-afa4-44e4-9f04-4a96b4266c8a"
      },
      "execution_count": 28,
      "outputs": [
        {
          "output_type": "stream",
          "name": "stdout",
          "text": [
            "BKC\n",
            "COLLEGE\n",
            "BKC COLLEGE\n"
          ]
        }
      ]
    },
    {
      "cell_type": "code",
      "source": [
        "x=100\n",
        "y=50\n",
        "print(f'addtion of {x} and {y} value is = {x+y}')"
      ],
      "metadata": {
        "colab": {
          "base_uri": "https://localhost:8080/"
        },
        "id": "pIJCl88M3JVj",
        "outputId": "a00e24bb-52ee-4f1b-ba74-bfbaabc1ceb6"
      },
      "execution_count": 29,
      "outputs": [
        {
          "output_type": "stream",
          "name": "stdout",
          "text": [
            "addtion of 100 and 50 value is = 150\n"
          ]
        }
      ]
    },
    {
      "cell_type": "code",
      "source": [
        "#hi, good morning my name is prachi, i have completed puc in the year of 2024,currently i am studyng in KLE BK COLLEGE CHKODI 591201\n",
        "name=\"prachi\"\n",
        "course=\"puc\"\n",
        "year=2024\n",
        "college=\"KLE BK COLLEGE CHIKODI\"\n",
        "pincode=591201\n",
        "print(f'hi, good morning my name is {name}, i have completed {course} in the year of{year},currently i am studying in{college} {pincode}')"
      ],
      "metadata": {
        "colab": {
          "base_uri": "https://localhost:8080/"
        },
        "id": "6gMoZ-OY40Ce",
        "outputId": "3bff46b1-f687-464a-b585-d01f5b8921f3"
      },
      "execution_count": 31,
      "outputs": [
        {
          "output_type": "stream",
          "name": "stdout",
          "text": [
            "hi, good morning my name is prachi, i have completed puc in the year of2024,currently i am studying inKLE BK COLLEGE CHIKODI 591201\n"
          ]
        }
      ]
    },
    {
      "cell_type": "code",
      "source": [
        "num1=5\n",
        "num2=10\n",
        "sum=num1*num2\n",
        "print(sum)"
      ],
      "metadata": {
        "colab": {
          "base_uri": "https://localhost:8080/"
        },
        "id": "fiL1vEzf7YHM",
        "outputId": "b08805d6-cdef-4c77-bc02-b4be76d8912f"
      },
      "execution_count": 32,
      "outputs": [
        {
          "output_type": "stream",
          "name": "stdout",
          "text": [
            "50\n"
          ]
        }
      ]
    },
    {
      "cell_type": "code",
      "source": [
        "a=10\n",
        "b=5\n",
        "print(\"addition of 2 no:\",a+b)\n",
        "print()\n",
        "print(\"substraction of 2no :\",a-b)\n",
        "print(\"multiplication of 2 no:\",a*b)\n",
        "print(\"divison of 2 no:\",a/b)\n",
        "print(\"floor division of 2 no:\",a//b)\n",
        "print(\"modulus of 2 no:\",a%b)"
      ],
      "metadata": {
        "colab": {
          "base_uri": "https://localhost:8080/"
        },
        "id": "EY-nyWdb_wNS",
        "outputId": "7fb8050a-9464-4145-e21f-c4d1814e965f"
      },
      "execution_count": 38,
      "outputs": [
        {
          "output_type": "stream",
          "name": "stdout",
          "text": [
            "addition of 2 no: 15\n",
            "\n",
            "substraction of 2no : 5\n",
            "multiplication of 2 no: 50\n",
            "divison of 2 no: 2.0\n",
            "floor division of 2 no: 2\n",
            "modulus of 2 no: 0\n"
          ]
        }
      ]
    },
    {
      "cell_type": "code",
      "source": [
        "x=5\n",
        "y=3\n",
        "print(\"exponent value is :\",x**y)"
      ],
      "metadata": {
        "colab": {
          "base_uri": "https://localhost:8080/"
        },
        "id": "-X_AevfTEc0a",
        "outputId": "68f97134-0995-4cb8-e155-51afc739f6ec"
      },
      "execution_count": 39,
      "outputs": [
        {
          "output_type": "stream",
          "name": "stdout",
          "text": [
            "exponent value is : 125\n"
          ]
        }
      ]
    },
    {
      "cell_type": "code",
      "source": [
        "num1=35\n",
        "num2=40\n",
        "print(num1>num2)\n",
        "print(num2<num1)\n",
        "print(num1==num2)\n",
        "print(num1!=num2)\n",
        "print(num1>=num2)\n",
        "print(num1<=num2)\n",
        "print(num2==num1)\n",
        "print(num2!=num1)\n",
        "print(num2>num2)\n",
        "print(num2<num1)\n",
        "print(num2>=num1)\n",
        "print(num2<=num1)"
      ],
      "metadata": {
        "colab": {
          "base_uri": "https://localhost:8080/"
        },
        "id": "AUL3EKuXFByY",
        "outputId": "a93003fd-d8e5-4a0d-cb12-30c47a5b1d91"
      },
      "execution_count": 43,
      "outputs": [
        {
          "output_type": "stream",
          "name": "stdout",
          "text": [
            "False\n",
            "False\n",
            "False\n",
            "True\n",
            "False\n",
            "True\n",
            "False\n",
            "True\n",
            "False\n",
            "False\n",
            "True\n",
            "False\n"
          ]
        }
      ]
    },
    {
      "cell_type": "code",
      "source": [
        "a=20\n",
        "b=35\n",
        "c=13\n",
        "d=10\n",
        "print(a==b and c<d)\n",
        "print(13!=c and d<c)\n",
        "print(b>a and d<c)\n",
        "print(20!=a and c==b)\n",
        "print(a<b or d==c)\n",
        "print((not(a<b))and 100<200)\n",
        "print(not(d==10))\n",
        "print(35!=d or (not(20==a)))\n",
        "print(not(c<=b and (not(a<=c))))\n",
        "\n"
      ],
      "metadata": {
        "colab": {
          "base_uri": "https://localhost:8080/"
        },
        "id": "GOTjZH9mNxB_",
        "outputId": "29b50b7c-48b4-49b0-fda3-364575c0b334"
      },
      "execution_count": 52,
      "outputs": [
        {
          "output_type": "stream",
          "name": "stdout",
          "text": [
            "False\n",
            "False\n",
            "True\n",
            "False\n",
            "True\n",
            "False\n",
            "False\n",
            "True\n",
            "False\n"
          ]
        }
      ]
    },
    {
      "cell_type": "code",
      "source": [
        "x=10\n",
        "print(x)\n",
        "\n",
        "x-=2          #x=x-2,x=10-2\n",
        "print(x)\n",
        "\n",
        "x*=5          #x=x*5,x=8*5\n",
        "print(x)\n",
        "\n",
        "x//=3         #x=x//3,x=40//3\n",
        "print(x)\n",
        "\n",
        "\n",
        "x**=2         #x=x**2,x=13**2\n",
        "print(x)\n",
        "\n",
        "x%=4          #x=x%4,x=169%4\n",
        "print(x)\n",
        "\n",
        "x+=9          #x=x+2,x=1+9\n",
        "print(x)\n",
        "\n",
        "x/=3          #x=x/3,x=10/3\n",
        "print(x)\n",
        "\n"
      ],
      "metadata": {
        "colab": {
          "base_uri": "https://localhost:8080/"
        },
        "id": "GW4AKPWOSxOW",
        "outputId": "4ad06c01-6c71-4aa6-89b2-735a1663fa2a"
      },
      "execution_count": 65,
      "outputs": [
        {
          "output_type": "stream",
          "name": "stdout",
          "text": [
            "10\n",
            "8\n",
            "40\n",
            "13\n",
            "169\n",
            "1\n",
            "10\n",
            "3.3333333333333335\n"
          ]
        }
      ]
    },
    {
      "cell_type": "code",
      "source": [
        "num=9\n",
        "if num<10:\n",
        "  print(\"10 is a greater than 9\")"
      ],
      "metadata": {
        "colab": {
          "base_uri": "https://localhost:8080/"
        },
        "id": "O-42xsJWqV6t",
        "outputId": "fc5e9c48-e85e-49db-97ff-6beb4316a3fd"
      },
      "execution_count": 67,
      "outputs": [
        {
          "output_type": "stream",
          "name": "stdout",
          "text": [
            "10 is a greater than 9\n"
          ]
        }
      ]
    },
    {
      "cell_type": "code",
      "source": [
        "user_id = \"2030BCA00\"\n",
        "passwaord=3042007\n",
        "if user_id == \"2030BCA00\" and passwaord== 3042007:\n",
        "      print(\"login successfully\")"
      ],
      "metadata": {
        "colab": {
          "base_uri": "https://localhost:8080/"
        },
        "id": "KZ7qo4qBuljo",
        "outputId": "db4fc988-56ba-4f00-a5aa-ee6025331216"
      },
      "execution_count": 76,
      "outputs": [
        {
          "output_type": "stream",
          "name": "stdout",
          "text": [
            "login successfully\n"
          ]
        }
      ]
    },
    {
      "cell_type": "code",
      "source": [
        "ex=59\n",
        "if ex==58:\n",
        "  print(\"are you understand\")"
      ],
      "metadata": {
        "id": "fnlc9kRIwOON"
      },
      "execution_count": 77,
      "outputs": []
    },
    {
      "cell_type": "code",
      "source": [
        "name=\"prachi\"\n",
        "if name<=\"BKC\":\n",
        "  print(\"my name is prachi\")"
      ],
      "metadata": {
        "id": "MJ5hyI1hwamx"
      },
      "execution_count": 79,
      "outputs": []
    },
    {
      "cell_type": "code",
      "source": [
        "num=int(input(\"enter number value:\"))\n",
        "if num>0:\n",
        "  print(\"positive number\")\n",
        "else:\n",
        "  print(\"negative number\")"
      ],
      "metadata": {
        "colab": {
          "base_uri": "https://localhost:8080/"
        },
        "id": "zDiTQxmKwyu0",
        "outputId": "1411b029-f971-49e7-9070-6fdc6added8a"
      },
      "execution_count": 83,
      "outputs": [
        {
          "output_type": "stream",
          "name": "stdout",
          "text": [
            "enter number value:69\n",
            "positive number\n"
          ]
        }
      ]
    },
    {
      "cell_type": "code",
      "source": [
        "num=int(input(\"enter number value:\"))\n",
        "if num% 2 ==0:\n",
        "       print(\"even number\")\n",
        "else :\n",
        "       print(\"odd number\")"
      ],
      "metadata": {
        "colab": {
          "base_uri": "https://localhost:8080/"
        },
        "id": "hCmrw5aUzZbN",
        "outputId": "ea21e53c-b530-48fd-d326-d7a7612d92ec"
      },
      "execution_count": 92,
      "outputs": [
        {
          "output_type": "stream",
          "name": "stdout",
          "text": [
            "enter number value:1000\n",
            "even number\n"
          ]
        }
      ]
    },
    {
      "cell_type": "code",
      "source": [
        "year = int(input(\"enter a year value\"))\n",
        "if year % 4 == 0:\n",
        "        print(\"leap year\")\n",
        "else:\n",
        "       print(\"not leap year\")"
      ],
      "metadata": {
        "colab": {
          "base_uri": "https://localhost:8080/"
        },
        "id": "wQM6khLl3CJc",
        "outputId": "9c2a561b-3427-4c19-8f2f-1fe892dbe2bf"
      },
      "execution_count": 99,
      "outputs": [
        {
          "output_type": "stream",
          "name": "stdout",
          "text": [
            "enter a year value2025\n",
            "not leap year\n"
          ]
        }
      ]
    },
    {
      "cell_type": "code",
      "source": [
        "num= int(input(\"enter a age value\"))\n",
        "if num >=18:\n",
        "    print(\"they are eligible for voting\")\n",
        "else:\n",
        "    print(\"they have to wait\")"
      ],
      "metadata": {
        "colab": {
          "base_uri": "https://localhost:8080/"
        },
        "id": "E4mp7rUN4pCS",
        "outputId": "a14ef1a6-9084-4ce4-fc59-986d5b479878"
      },
      "execution_count": 102,
      "outputs": [
        {
          "output_type": "stream",
          "name": "stdout",
          "text": [
            "enter a age value21\n",
            "they are eligible for voting\n"
          ]
        }
      ]
    },
    {
      "cell_type": "code",
      "source": [
        "password =(input(\"enter the password :\"))\n",
        "user_id = (input(\"enter the user_id:\"))\n",
        "if password == \"1234\" and user_id == \"prachi\":\n",
        "  print(\"login successful\")\n",
        "else:\n",
        "  print(\"login unsccessfull\")"
      ],
      "metadata": {
        "colab": {
          "base_uri": "https://localhost:8080/"
        },
        "id": "jnSGqCM95TxI",
        "outputId": "7e3fb879-e75f-47df-fd94-6c090aac36d2"
      },
      "execution_count": 112,
      "outputs": [
        {
          "output_type": "stream",
          "name": "stdout",
          "text": [
            "enter the password :1234\n",
            "enter the user_id:prachi\n",
            "login successful\n"
          ]
        }
      ]
    },
    {
      "cell_type": "markdown",
      "source": [],
      "metadata": {
        "id": "a4n5oROPAZgQ"
      }
    },
    {
      "cell_type": "code",
      "source": [
        "marks =int(input(\"enter the class value:\"))\n",
        "if marks >= 85:\n",
        "  print(\"distction\")\n",
        "elif marks >= 70:\n",
        "  print(\"first class\")\n",
        "elif marks >=55:\n",
        "  print(\"second class\")\n",
        "elif marks >= 35:\n",
        "   print(\"just pass\")\n",
        "else:\n",
        "  print(\"fail better luck next chance\")"
      ],
      "metadata": {
        "colab": {
          "base_uri": "https://localhost:8080/"
        },
        "id": "rr7XP23T_rw8",
        "outputId": "ed1e94be-06a2-4761-f54a-733b5d1bd444"
      },
      "execution_count": 114,
      "outputs": [
        {
          "output_type": "stream",
          "name": "stdout",
          "text": [
            "enter the class value:100\n",
            "distction\n"
          ]
        }
      ]
    },
    {
      "cell_type": "code",
      "source": [
        "price = input(\"enter price medal:\")\n",
        "if price == \"gold\":\n",
        "    print(\"first price\")\n",
        "elif price == \"silver\":\n",
        "     print(\"second price\")\n",
        "elif price== \"bronze\":\n",
        "     print(\"third price\")\n",
        "elif price == \"certificate\":\n",
        "     print(\"samadhanakara bhumana\")\n",
        "else :\n",
        "      print(\"better luck next time\")"
      ],
      "metadata": {
        "colab": {
          "base_uri": "https://localhost:8080/"
        },
        "id": "kRwvPnqoDhOh",
        "outputId": "609bcdff-1b27-4dbf-fdf9-b62868f47b55"
      },
      "execution_count": 123,
      "outputs": [
        {
          "output_type": "stream",
          "name": "stdout",
          "text": [
            "enter price medal:gold\n",
            "first price\n"
          ]
        }
      ]
    },
    {
      "cell_type": "code",
      "source": [
        "colour= input(\"enter trafic colour:\")\n",
        "if colour== \"red\":\n",
        "   print(\"stop\")\n",
        "elif colour == \"yellow\":\n",
        "   print(\"ready to go\")\n",
        "elif colour  == \"green\":\n",
        "  print(\"go\")\n",
        "elif colour==\"white\":\n",
        "  print(\"invalid rules\")\n",
        "else :\n",
        "  print(\"not a trafic rules\")"
      ],
      "metadata": {
        "colab": {
          "base_uri": "https://localhost:8080/"
        },
        "id": "d0VteXx-GHyB",
        "outputId": "79273f10-7752-4e71-d057-34e4266ce5c6"
      },
      "execution_count": 124,
      "outputs": [
        {
          "output_type": "stream",
          "name": "stdout",
          "text": [
            "enter trafic colour:red\n",
            "stop\n"
          ]
        }
      ]
    }
  ]
}