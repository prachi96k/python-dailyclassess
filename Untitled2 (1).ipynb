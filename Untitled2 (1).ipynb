{
  "nbformat": 4,
  "nbformat_minor": 0,
  "metadata": {
    "colab": {
      "provenance": []
    },
    "kernelspec": {
      "name": "python3",
      "display_name": "Python 3"
    },
    "language_info": {
      "name": "python"
    }
  },
  "cells": [
    {
      "cell_type": "code",
      "execution_count": null,
      "metadata": {
        "colab": {
          "base_uri": "https://localhost:8080/"
        },
        "id": "gKHDqKUvmn3z",
        "outputId": "9bddb2d6-f608-4b32-e550-2768b772fbb7"
      },
      "outputs": [
        {
          "output_type": "stream",
          "name": "stdout",
          "text": [
            "hello world\n"
          ]
        }
      ],
      "source": [
        "print(\"hello world\")"
      ]
    },
    {
      "cell_type": "code",
      "source": [
        "print(\"prachi kamatagi\")"
      ],
      "metadata": {
        "colab": {
          "base_uri": "https://localhost:8080/"
        },
        "id": "YsS2-3-GojX3",
        "outputId": "d84d8655-788c-4f6e-96b3-66105ce365a4"
      },
      "execution_count": null,
      "outputs": [
        {
          "output_type": "stream",
          "name": "stdout",
          "text": [
            "prachi kamatagi\n"
          ]
        }
      ]
    },
    {
      "cell_type": "code",
      "source": [
        "print(\"5+5\")"
      ],
      "metadata": {
        "colab": {
          "base_uri": "https://localhost:8080/"
        },
        "id": "dvGufUKpr7YX",
        "outputId": "dfe49a6a-a9be-4c64-e65d-493cbdf3cd8c"
      },
      "execution_count": null,
      "outputs": [
        {
          "output_type": "stream",
          "name": "stdout",
          "text": [
            "5+5\n"
          ]
        }
      ]
    },
    {
      "cell_type": "code",
      "source": [
        "print(\"jai shivray\")"
      ],
      "metadata": {
        "colab": {
          "base_uri": "https://localhost:8080/"
        },
        "id": "tvmAc8Z9sAXy",
        "outputId": "bb4f8197-6c7c-46d3-b944-cf4cc6ed9eea"
      },
      "execution_count": null,
      "outputs": [
        {
          "output_type": "stream",
          "name": "stdout",
          "text": [
            "jai shivray\n"
          ]
        }
      ]
    },
    {
      "cell_type": "code",
      "source": [
        "print(\"Good Morning\")"
      ],
      "metadata": {
        "id": "tZsnK6y8sJbW"
      },
      "execution_count": null,
      "outputs": []
    },
    {
      "cell_type": "code",
      "source": [
        "a, b, c =\"Good\",\"morning\",18\n",
        "print(a,b,c)"
      ],
      "metadata": {
        "colab": {
          "base_uri": "https://localhost:8080/"
        },
        "id": "bNRkSEaAoB_X",
        "outputId": "50e76b6e-f95e-47da-d02d-d395e55c2e5f"
      },
      "execution_count": null,
      "outputs": [
        {
          "output_type": "stream",
          "name": "stdout",
          "text": [
            "Good morning 18\n"
          ]
        }
      ]
    },
    {
      "cell_type": "code",
      "source": [
        "Name, College, Degree, Roll= \"prachi\",\"BK\",\"BCA\", 90\n",
        "print(\"hi,Good Morning\",\",I'm\",Name,\",i'm studying \",Degree,\"in\",College,\"at chikodi,my roll number is\",Roll)"
      ],
      "metadata": {
        "colab": {
          "base_uri": "https://localhost:8080/"
        },
        "id": "ldgyKlGaopnN",
        "outputId": "8cf62e23-7511-49aa-eff4-a491d90482e8"
      },
      "execution_count": null,
      "outputs": [
        {
          "output_type": "stream",
          "name": "stdout",
          "text": [
            "hi,Good Morning ,I'm prachi ,i'm studying  BCA in BK at chikodi,my rool number is 90\n"
          ]
        }
      ]
    },
    {
      "cell_type": "code",
      "source": [
        "x = y = z = 1001\n",
        "print(x,y,z)"
      ],
      "metadata": {
        "colab": {
          "base_uri": "https://localhost:8080/"
        },
        "id": "UNQZP1u7sRS2",
        "outputId": "8d49f48e-a4b5-4fac-d4ab-d64d059592a1"
      },
      "execution_count": null,
      "outputs": [
        {
          "output_type": "stream",
          "name": "stdout",
          "text": [
            "1001 1001 1001\n"
          ]
        }
      ]
    },
    {
      "cell_type": "code",
      "source": [
        "a = b = c = \"College\", 25\n",
        "print(b, c, a)"
      ],
      "metadata": {
        "colab": {
          "base_uri": "https://localhost:8080/"
        },
        "id": "NKQ_SEeOspoG",
        "outputId": "f1f55b59-bc60-495a-ff12-2649023dd053"
      },
      "execution_count": null,
      "outputs": [
        {
          "output_type": "stream",
          "name": "stdout",
          "text": [
            "('College', 25) ('College', 25) ('College', 25)\n"
          ]
        }
      ]
    },
    {
      "cell_type": "code",
      "source": [
        "A = 10\n",
        "B = 20\n",
        "print(\"addition of\",A,\"and\",B,\"is 30\")"
      ],
      "metadata": {
        "colab": {
          "base_uri": "https://localhost:8080/"
        },
        "id": "RdNMQr8ytLag",
        "outputId": "72a8f738-da9a-42d6-9764-dab311d03639"
      },
      "execution_count": null,
      "outputs": [
        {
          "output_type": "stream",
          "name": "stdout",
          "text": [
            "addition of 10 and 20 is 30\n"
          ]
        }
      ]
    },
    {
      "cell_type": "code",
      "source": [
        "x=69\n",
        "print(type(x))"
      ],
      "metadata": {
        "colab": {
          "base_uri": "https://localhost:8080/"
        },
        "id": "PHWSU-qmxeUv",
        "outputId": "c99e403f-e35a-4fc0-ac24-78ff5209e2e3"
      },
      "execution_count": null,
      "outputs": [
        {
          "output_type": "stream",
          "name": "stdout",
          "text": [
            "<class 'int'>\n"
          ]
        }
      ]
    },
    {
      "cell_type": "code",
      "source": [
        "college=-100\n",
        "system=+200\n",
        "value=0\n",
        "print(type(value))\n"
      ],
      "metadata": {
        "colab": {
          "base_uri": "https://localhost:8080/"
        },
        "id": "YqQQ0fQnzw82",
        "outputId": "ad039266-8827-47d2-fb04-bb2fb1ebcc98"
      },
      "execution_count": null,
      "outputs": [
        {
          "output_type": "stream",
          "name": "stdout",
          "text": [
            "<class 'int'>\n"
          ]
        }
      ]
    },
    {
      "cell_type": "code",
      "source": [
        "value=-9\n",
        "print(type(value))"
      ],
      "metadata": {
        "colab": {
          "base_uri": "https://localhost:8080/"
        },
        "id": "y8wsv-Xl0YXg",
        "outputId": "7b9e98c4-0626-4252-b2cb-cf56239bfc73"
      },
      "execution_count": null,
      "outputs": [
        {
          "output_type": "stream",
          "name": "stdout",
          "text": [
            "<class 'int'>\n"
          ]
        }
      ]
    },
    {
      "cell_type": "code",
      "source": [
        "number=10001\n",
        "print(type(number))"
      ],
      "metadata": {
        "colab": {
          "base_uri": "https://localhost:8080/"
        },
        "id": "JJYSXlyB0xcv",
        "outputId": "213a2482-6fb3-4652-a3b5-874858b6636d"
      },
      "execution_count": null,
      "outputs": [
        {
          "output_type": "stream",
          "name": "stdout",
          "text": [
            "<class 'int'>\n"
          ]
        }
      ]
    },
    {
      "cell_type": "code",
      "source": [
        "value=3.33\n",
        "print(type(value))"
      ],
      "metadata": {
        "colab": {
          "base_uri": "https://localhost:8080/"
        },
        "id": "CwE99TwW0-F2",
        "outputId": "3fc2617d-d6d5-482e-b244-9ac0d8b53e74"
      },
      "execution_count": null,
      "outputs": [
        {
          "output_type": "stream",
          "name": "stdout",
          "text": [
            "<class 'float'>\n"
          ]
        }
      ]
    },
    {
      "cell_type": "code",
      "source": [
        "name=-100.33\n",
        "print(type(name))"
      ],
      "metadata": {
        "colab": {
          "base_uri": "https://localhost:8080/"
        },
        "id": "P2LBWUfl1W22",
        "outputId": "2f7c7d80-bcd3-466c-f4cc-84daff629b22"
      },
      "execution_count": null,
      "outputs": [
        {
          "output_type": "stream",
          "name": "stdout",
          "text": [
            "<class 'float'>\n"
          ]
        }
      ]
    },
    {
      "cell_type": "code",
      "source": [
        "run=+250\n",
        "print(type(run))"
      ],
      "metadata": {
        "colab": {
          "base_uri": "https://localhost:8080/"
        },
        "id": "qYcAFBaO11HW",
        "outputId": "98e7c46a-4a89-48a9-ba8f-677e89569a42"
      },
      "execution_count": null,
      "outputs": [
        {
          "output_type": "stream",
          "name": "stdout",
          "text": [
            "<class 'int'>\n"
          ]
        }
      ]
    },
    {
      "cell_type": "code",
      "source": [
        "yes = True\n",
        "print(type(yes))"
      ],
      "metadata": {
        "colab": {
          "base_uri": "https://localhost:8080/"
        },
        "id": "bVhaTunV2Apf",
        "outputId": "d084c5c0-0679-4366-ff16-8ed794f68456"
      },
      "execution_count": null,
      "outputs": [
        {
          "output_type": "stream",
          "name": "stdout",
          "text": [
            "<class 'bool'>\n"
          ]
        }
      ]
    },
    {
      "cell_type": "code",
      "source": [
        "yes=18\n",
        "print(type(yes))"
      ],
      "metadata": {
        "colab": {
          "base_uri": "https://localhost:8080/"
        },
        "id": "G-MLVlk22n13",
        "outputId": "6d746df5-6320-449c-9ae1-9f6f1d2b75f3"
      },
      "execution_count": null,
      "outputs": [
        {
          "output_type": "stream",
          "name": "stdout",
          "text": [
            "<class 'int'>\n"
          ]
        }
      ]
    },
    {
      "cell_type": "code",
      "source": [
        "yes=\"false\"\n",
        "print(type(yes))"
      ],
      "metadata": {
        "colab": {
          "base_uri": "https://localhost:8080/"
        },
        "id": "dfVyhyv13Ftm",
        "outputId": "b463bb23-60aa-45d9-a6a9-a8beb8907c97"
      },
      "execution_count": null,
      "outputs": [
        {
          "output_type": "stream",
          "name": "stdout",
          "text": [
            "<class 'str'>\n"
          ]
        }
      ]
    },
    {
      "cell_type": "code",
      "source": [
        "roll_number=\"101\"\n",
        "print(type(roll_number))"
      ],
      "metadata": {
        "colab": {
          "base_uri": "https://localhost:8080/"
        },
        "id": "d9IXpE193pF3",
        "outputId": "04bfc38f-5b55-4c33-b786-8aa80c9714c7"
      },
      "execution_count": null,
      "outputs": [
        {
          "output_type": "stream",
          "name": "stdout",
          "text": [
            "<class 'str'>\n"
          ]
        }
      ]
    },
    {
      "cell_type": "code",
      "source": [
        "value =22.7\n",
        "print(type(value))"
      ],
      "metadata": {
        "colab": {
          "base_uri": "https://localhost:8080/"
        },
        "id": "8l6EA3Dx3_UP",
        "outputId": "e2cab35d-04d6-490b-cd42-cb284e6a2cce"
      },
      "execution_count": null,
      "outputs": [
        {
          "output_type": "stream",
          "name": "stdout",
          "text": [
            "<class 'float'>\n"
          ]
        }
      ]
    },
    {
      "cell_type": "code",
      "source": [
        "section='c'\n",
        "print(type(section))"
      ],
      "metadata": {
        "colab": {
          "base_uri": "https://localhost:8080/"
        },
        "id": "lPWrendp39cn",
        "outputId": "4bb8c12d-add6-4028-e76b-faf7d91760b5"
      },
      "execution_count": null,
      "outputs": [
        {
          "output_type": "stream",
          "name": "stdout",
          "text": [
            "<class 'str'>\n"
          ]
        }
      ]
    },
    {
      "cell_type": "code",
      "source": [
        "program=\"program\"\n",
        "print(type(program))"
      ],
      "metadata": {
        "colab": {
          "base_uri": "https://localhost:8080/"
        },
        "id": "IFMfYMEX4iiw",
        "outputId": "b3a5d96d-9f32-448d-dfee-226dcfc97100"
      },
      "execution_count": null,
      "outputs": [
        {
          "output_type": "stream",
          "name": "stdout",
          "text": [
            "<class 'str'>\n"
          ]
        }
      ]
    },
    {
      "cell_type": "code",
      "source": [
        "first=\"BKC\"\n",
        "second=\"college\\n\"\n",
        "print(((first+second)+\"\\n\")*5)\n"
      ],
      "metadata": {
        "colab": {
          "base_uri": "https://localhost:8080/"
        },
        "id": "v10KOzOX4_aY",
        "outputId": "7084de93-9932-4585-c93a-8509184dac65"
      },
      "execution_count": null,
      "outputs": [
        {
          "output_type": "stream",
          "name": "stdout",
          "text": [
            "BKCcollege\n",
            "\n",
            "BKCcollege\n",
            "\n",
            "BKCcollege\n",
            "\n",
            "BKCcollege\n",
            "\n",
            "BKCcollege\n",
            "\n",
            "\n"
          ]
        }
      ]
    },
    {
      "cell_type": "code",
      "source": [
        "name=\"python programing languages\"\n",
        "print(name[5])\n",
        "print(name[-2])\n",
        "print(name[18])\n",
        "print(name[3:14])\n",
        "print(name[:20])\n",
        "print(name[6:])\n",
        "print(name[-22:-4])\n",
        "print(name[::1])\n",
        "print(name[::2])\n",
        "print(name[::-1])\n",
        "print(name[::-3])\n"
      ],
      "metadata": {
        "colab": {
          "base_uri": "https://localhost:8080/"
        },
        "id": "HWoqhBgjB14c",
        "outputId": "bc606f20-24d4-4f6b-f33b-4134ac8757c2"
      },
      "execution_count": null,
      "outputs": [
        {
          "output_type": "stream",
          "name": "stdout",
          "text": [
            "n\n",
            "e\n",
            "l\n",
            "hon program\n",
            "python programing la\n",
            " programing languages\n",
            "n programing langu\n",
            "python programing languages\n",
            "pto rgaiglnugs\n",
            "segaugnal gnimargorp nohtyp\n",
            "san irrnt\n"
          ]
        }
      ]
    },
    {
      "cell_type": "code",
      "source": [
        "# hi good morning 'single line comments'\n",
        "Details=''' multi line comments\n",
        "hi, good morning\n",
        "'''\n",
        "print(Details)"
      ],
      "metadata": {
        "colab": {
          "base_uri": "https://localhost:8080/"
        },
        "id": "LudAjYLVIgcZ",
        "outputId": "8f27b092-433f-47e0-c325-d818b7a03d2b"
      },
      "execution_count": null,
      "outputs": [
        {
          "output_type": "stream",
          "name": "stdout",
          "text": [
            " multi line comments\n",
            "hi, good morning\n",
            "\n"
          ]
        }
      ]
    },
    {
      "cell_type": "code",
      "source": [
        "roll_no =1,2,3,4,5,6,7,8,9,10,11,12,13,14,15,16,17,18,19,20,21,22,23,24,25,26,27,28,29,30,31,32,33,34,35,36,37,38,39,40,41,42,4,44,45,46,47,48,49,50,51,52,53,54,55,56,57,58,59,60\n",
        "print(roll_no[19])"
      ],
      "metadata": {
        "colab": {
          "base_uri": "https://localhost:8080/"
        },
        "id": "lDiA11QHKbXp",
        "outputId": "ac5e8675-2937-4d20-8536-c785cf464c0f"
      },
      "execution_count": null,
      "outputs": [
        {
          "output_type": "stream",
          "name": "stdout",
          "text": [
            "20\n"
          ]
        }
      ]
    },
    {
      "cell_type": "code",
      "source": [
        "details=[101]\n",
        "print(details)\n",
        "print(type(details))\n",
        "details.append(85.12)\n",
        "print(details)\n",
        "details.append(True)\n",
        "print(details)\n",
        "print(len(details))\n",
        "print(details.pop())\n",
        "print(details)\n",
        "details.append(\"prachi\")\n",
        "print(details)\n",
        "details.append(-99)\n",
        "print(details)\n",
        "print(len(details))\n",
        "print(details[2])\n",
        "print(details[-1])\n",
        "details.append(\"BKC COLLEGE\")\n",
        "print(details)\n",
        "details[3]=99\n",
        "print(details)\n",
        "print(details[2:4])\n",
        "details.insert(2,False)\n",
        "print(details)\n",
        "print(len(details))\n",
        "details.remove(False)\n",
        "print(details)\n",
        "print(len(details))\n",
        "print(details[4])\n",
        "print(details[::-1])\n",
        "print(details.count(101))\n",
        "print(details.clear())\n",
        "print(details)\n",
        "print(type(details))"
      ],
      "metadata": {
        "colab": {
          "base_uri": "https://localhost:8080/"
        },
        "id": "WueLjUzOX8rR",
        "outputId": "4cc95611-c0a0-4532-e517-7db07bf3c3d1"
      },
      "execution_count": null,
      "outputs": [
        {
          "output_type": "stream",
          "name": "stdout",
          "text": [
            "[101]\n",
            "<class 'list'>\n",
            "[101, 85.12]\n",
            "[101, 85.12, True]\n",
            "3\n",
            "True\n",
            "[101, 85.12]\n",
            "[101, 85.12, 'prachi']\n",
            "[101, 85.12, 'prachi', -99]\n",
            "4\n",
            "prachi\n",
            "-99\n",
            "[101, 85.12, 'prachi', -99, 'BKC COLLEGE']\n",
            "[101, 85.12, 'prachi', 99, 'BKC COLLEGE']\n",
            "['prachi', 99]\n",
            "[101, 85.12, False, 'prachi', 99, 'BKC COLLEGE']\n",
            "6\n",
            "[101, 85.12, 'prachi', 99, 'BKC COLLEGE']\n",
            "5\n",
            "BKC COLLEGE\n",
            "['BKC COLLEGE', 99, 'prachi', 85.12, 101]\n",
            "1\n",
            "None\n",
            "[]\n",
            "<class 'list'>\n"
          ]
        }
      ]
    },
    {
      "cell_type": "code",
      "source": [
        "information=[90]\n",
        "print(information)\n",
        "print(type(information))\n",
        "information.append(90.19)\n",
        "print(information)\n",
        "information.append(True)\n",
        "print(information)\n",
        "print(len(information))\n",
        "print(information.pop())\n",
        "print(information)\n",
        "information.append(\"prachi\")\n",
        "print(information)\n",
        "information.append(-99)\n",
        "print(information)\n",
        "print(len(information))\n",
        "print(information[2])\n",
        "print(information[-1])\n",
        "information.append(\"BKC COLLEGE\")\n",
        "print(information)\n",
        "information[3]=99\n",
        "print(information)\n",
        "print(information[2:4])\n",
        "information.insert(2,False)\n",
        "print(information)\n",
        "print(len(information))\n",
        "information.remove(False)\n",
        "print(information)\n",
        "print(len(information))\n",
        "print(information[4])\n",
        "print(information[::-1])\n",
        "print(information.count(101))\n",
        "print(information.clear())\n",
        "print(information)\n",
        "print(type(information))"
      ],
      "metadata": {
        "colab": {
          "base_uri": "https://localhost:8080/"
        },
        "id": "KE3aBSiS67PX",
        "outputId": "2245eedc-c3ff-43f3-cd20-25173738c6ef"
      },
      "execution_count": null,
      "outputs": [
        {
          "output_type": "stream",
          "name": "stdout",
          "text": [
            "[90]\n",
            "<class 'list'>\n",
            "[90, 90.19]\n",
            "[90, 90.19, True]\n",
            "3\n",
            "True\n",
            "[90, 90.19]\n",
            "[90, 90.19, 'prachi']\n",
            "[90, 90.19, 'prachi', -99]\n",
            "4\n",
            "prachi\n",
            "-99\n",
            "[90, 90.19, 'prachi', -99, 'BKC COLLEGE']\n",
            "[90, 90.19, 'prachi', 99, 'BKC COLLEGE']\n",
            "['prachi', 99]\n",
            "[90, 90.19, False, 'prachi', 99, 'BKC COLLEGE']\n",
            "6\n",
            "[90, 90.19, 'prachi', 99, 'BKC COLLEGE']\n",
            "5\n",
            "BKC COLLEGE\n",
            "['BKC COLLEGE', 99, 'prachi', 90.19, 90]\n",
            "0\n",
            "None\n",
            "[]\n",
            "<class 'list'>\n"
          ]
        }
      ]
    },
    {
      "cell_type": "code",
      "source": [
        "number =[4,2,7,5,3,9,1]\n",
        "print(number)\n",
        "number.sort()\n",
        "print(number)"
      ],
      "metadata": {
        "colab": {
          "base_uri": "https://localhost:8080/"
        },
        "id": "kJoJITPt6lJ2",
        "outputId": "eeb9af21-fa42-4c35-f9d1-7f67617827cc"
      },
      "execution_count": null,
      "outputs": [
        {
          "output_type": "stream",
          "name": "stdout",
          "text": [
            "[4, 2, 7, 5, 3, 9, 1]\n",
            "[1, 2, 3, 4, 5, 7, 9]\n"
          ]
        }
      ]
    },
    {
      "cell_type": "markdown",
      "source": [],
      "metadata": {
        "id": "rR08L3f-95FA"
      }
    }
  ]
}