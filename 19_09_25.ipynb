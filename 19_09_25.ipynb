{
  "cells": [
    {
      "cell_type": "code",
      "execution_count": null,
      "metadata": {
        "colab": {
          "base_uri": "https://localhost:8080/"
        },
        "id": "USVFrWOBMxn4",
        "outputId": "30c3d093-7e4d-4946-f315-4bc508036dd5"
      },
      "outputs": [
        {
          "name": "stdout",
          "output_type": "stream",
          "text": [
            "my details is course and bca\n",
            "my details is section and C\n",
            "my details is college and bk college\n",
            "my details is place and gokak\n",
            "my details is roll_num and 90\n",
            "my details is T_subject and 7\n"
          ]
        }
      ],
      "source": [
        "def details(**kwargs):\n",
        "    for key, value in kwargs.items():\n",
        "        print(f'my details is {key} and {value}')\n",
        "\n",
        "details(course=\"bca\",section=\"C\",college=\"bk college\")\n",
        "details(place=\"gokak\")\n",
        "details(roll_num=90,T_subject=7)\n"
      ]
    },
    {
      "cell_type": "code",
      "execution_count": null,
      "metadata": {
        "colab": {
          "base_uri": "https://localhost:8080/"
        },
        "id": "C2nL9fFQQn9J",
        "outputId": "0ab3a61b-5c6f-4357-b1ee-8a28db9c448f"
      },
      "outputs": [
        {
          "name": "stdout",
          "output_type": "stream",
          "text": [
            "positional arguments represented n tuple (1, 2, 3, 4)\n",
            "key - words arguments represented in dict {'name': 'prachi'}\n",
            "positional arguments represented n tuple (5, 81, 1, 10)\n",
            "key - words arguments represented in dict {'Class': 'BCA C section', 'gender': 'female'}\n"
          ]
        }
      ],
      "source": [
        "def show_values(*args,**kwargs):\n",
        "    print(\"positional arguments represented n tuple\",args)\n",
        "    print(\"key - words arguments represented in dict\",kwargs)\n",
        "show_values(1,2,3,4,name=\"prachi\")\n",
        "\n",
        "show_values(5,81,1,10, Class=\"BCA C section\",gender=\"female\")"
      ]
    },
    {
      "cell_type": "code",
      "execution_count": null,
      "metadata": {
        "colab": {
          "base_uri": "https://localhost:8080/"
        },
        "id": "QmkNHE_6RdLw",
        "outputId": "7e355a38-77d2-49cb-c40a-6ba65aebf2c1"
      },
      "outputs": [
        {
          "name": "stdout",
          "output_type": "stream",
          "text": [
            "120\n"
          ]
        }
      ],
      "source": [
        "def fact(num):\n",
        "  if num==0 or num==1:\n",
        "     return 1\n",
        "  else:\n",
        "    return num*fact(num-1)\n",
        "print(fact(5))\n"
      ]
    },
    {
      "cell_type": "code",
      "execution_count": null,
      "metadata": {
        "colab": {
          "base_uri": "https://localhost:8080/"
        },
        "id": "nwpC5NIHXLGH",
        "outputId": "ed2426ee-1334-4248-aa0d-c0345e61b7f7"
      },
      "outputs": [
        {
          "name": "stdout",
          "output_type": "stream",
          "text": [
            "55\n"
          ]
        }
      ],
      "source": [
        "def sum(num):\n",
        "   if num == 0:\n",
        "     return 0\n",
        "   else:\n",
        "     return num+sum(num-1)\n",
        "print(sum(10))"
      ]
    },
    {
      "cell_type": "code",
      "execution_count": null,
      "metadata": {
        "colab": {
          "base_uri": "https://localhost:8080/"
        },
        "id": "L6qB0cl7al8_",
        "outputId": "8fb9781d-65da-48bc-a7a3-ba2eaa76a100"
      },
      "outputs": [
        {
          "name": "stdout",
          "output_type": "stream",
          "text": [
            "0 1 1 2 3 5 8 13 21 34 55 "
          ]
        }
      ],
      "source": [
        "def fibo(num):\n",
        "    if num==0 or num==1:\n",
        "       return num\n",
        "    else:\n",
        "       return fibo(num-1)+fibo(num-2)\n",
        "\n",
        "for i in range(11):\n",
        "    print(fibo(i),end=\" \")\n"
      ]
    },
    {
      "cell_type": "code",
      "execution_count": null,
      "metadata": {
        "colab": {
          "base_uri": "https://localhost:8080/"
        },
        "id": "QWgS4ZvWeBzH",
        "outputId": "0d1c357f-08c7-4f81-ac6b-82728f2e1a76"
      },
      "outputs": [
        {
          "name": "stdout",
          "output_type": "stream",
          "text": [
            "prachu\n"
          ]
        }
      ],
      "source": [
        "name = \"prachu\"\n",
        "print(name[:6])"
      ]
    },
    {
      "cell_type": "code",
      "execution_count": null,
      "metadata": {
        "colab": {
          "base_uri": "https://localhost:8080/"
        },
        "id": "N7fdxrt7kdFN",
        "outputId": "e7fc1ced-60dd-462c-a319-b24eb6ae8a86"
      },
      "outputs": [
        {
          "name": "stdout",
          "output_type": "stream",
          "text": [
            "orange colour is orange\n"
          ]
        }
      ],
      "source": [
        "class Fruit:\n",
        "      colour =\"orange\"\n",
        "      prize =250\n",
        "      taste =\"sweet\"\n",
        "      shape =\"circle\"\n",
        "      def juice(self):\n",
        "          print(\"good\")\n",
        "orange= Fruit()\n",
        "print(\"orange colour is\",orange.colour)"
      ]
    },
    {
      "cell_type": "code",
      "execution_count": null,
      "metadata": {
        "colab": {
          "base_uri": "https://localhost:8080/"
        },
        "id": "F1Swpg36t7yY",
        "outputId": "003259c6-c095-4140-94cd-36b473f1438c"
      },
      "outputs": [
        {
          "name": "stdout",
          "output_type": "stream",
          "text": [
            "marriage\n",
            "female\n",
            "hello good morning\n",
            "good afternoon\n",
            "this flower using for death time\n"
          ]
        }
      ],
      "source": [
        "class flower:\n",
        "    smell =\"nice\"\n",
        "    petal=5\n",
        "    size=\"medium\"\n",
        "    gender =\"female\"\n",
        "    validity =1.5\n",
        "    def decoration(self):\n",
        "        print(\"hello good morning\")\n",
        "    def gift(self):\n",
        "        print(\"good afternoon\")\n",
        "    def marriage(self):\n",
        "        print(\"marriage\")\n",
        "    def death(self):\n",
        "        print(\"this flower using for death time\")\n",
        "obj = flower()\n",
        "obj .marriage()\n",
        "print(obj.gender)\n",
        "obj.decoration()\n",
        "obj.gift()\n",
        "obj.death()"
      ]
    },
    {
      "cell_type": "code",
      "execution_count": 117,
      "metadata": {
        "colab": {
          "base_uri": "https://localhost:8080/"
        },
        "id": "VFr352ALxwkI",
        "outputId": "44b39dcf-3dfe-462c-d95e-fbc7f61321ab"
      },
      "outputs": [
        {
          "output_type": "stream",
          "name": "stdout",
          "text": [
            "balaji 2 years\n",
            "when click on off button it'll start\n",
            "when click on button it'll start\n",
            "based on condition it'll move fast\n"
          ]
        }
      ],
      "source": [
        "class fan :\n",
        "  colour =\"black\"\n",
        "  wings = 3\n",
        "  c_name =\"balaji\"\n",
        "  price = 1500\n",
        "  warrenty =\"2 years\"\n",
        "  def start(self):\n",
        "    print(\"when click on button it'll start\")\n",
        "  def speed(self):\n",
        "    print(\"based on condition it'll move fast\")\n",
        "  def stop(self):\n",
        "    print(\"when click on off button it'll start\")\n",
        "obj=fan()\n",
        "print(obj.c_name+\" \"+obj.warrenty)\n",
        "obj.stop()\n",
        "obj.start()\n",
        "obj.speed()"
      ]
    },
    {
      "cell_type": "code",
      "execution_count": null,
      "metadata": {
        "colab": {
          "base_uri": "https://localhost:8080/"
        },
        "id": "Vu-SHwruIG2W",
        "outputId": "833f233b-93ed-49d1-d906-3085d3ea8155"
      },
      "outputs": [
        {
          "name": "stdout",
          "output_type": "stream",
          "text": [
            "1000\n",
            "1500\n",
            "transaction successfully\n",
            "<bound method bank.re_balence of <__main__.bank object at 0x7b6949c2f4d0>>\n",
            "current total balance is 1800\n",
            "transaction successfully\n",
            "<bound method bank.re_balence of <__main__.bank object at 0x7b6949c2f4d0>>\n"
          ]
        }
      ],
      "source": [
        "class bank:\n",
        "    def __init__(self,balence):\n",
        "        self.balence=balence\n",
        "\n",
        "    def deposit(self,amount):\n",
        "        self.balence=self.balence+amount\n",
        "\n",
        "    def withdraw(self,amount):\n",
        "        if amount<=self.balence:\n",
        "            self.balence-=amount\n",
        "\n",
        "            print(\"transaction successfully\")\n",
        "        else:\n",
        "            print(\"insufficient balence\")\n",
        "    def re_balence(self):\n",
        "        return self.balence\n",
        "obj=bank(1000)\n",
        "print(obj.balence)\n",
        "obj.deposit(500)\n",
        "print(obj.balence)\n",
        "obj.withdraw(700)\n",
        "print(obj.re_balence)\n",
        "obj.deposit(1000)\n",
        "print(\"current total balance is\",obj.balence)\n",
        "obj.withdraw(1500)\n",
        "print(obj.re_balence)"
      ]
    },
    {
      "cell_type": "code",
      "execution_count": null,
      "metadata": {
        "colab": {
          "background_save": true,
          "base_uri": "https://localhost:8080/"
        },
        "id": "MXQ5MPBuPnzz",
        "outputId": "10958d52-00aa-4f66-b2ae-50118ce6b059"
      },
      "outputs": [
        {
          "name": "stdout",
          "output_type": "stream",
          "text": [
            "prachi\n"
          ]
        }
      ],
      "source": [
        "class student:\n",
        "   def __init__(self,name,marks,place):\n",
        "        self.__name = name\n",
        "        self.__name = marks\n",
        "        self.__place = place\n",
        "   def set_method(self,name,marks):\n",
        "       self.name =name\n",
        "       self.marks=marks\n",
        "   def get_method(self):\n",
        "       return self.name\n",
        "   def Get_method(self):\n",
        "           return self.name+\" \"+str\n",
        "obj=student(\"prachi\",90,\"gokak\")\n",
        "obj.set_method(\"prachi\",90)\n",
        "print(obj.get_method())\n"
      ]
    },
    {
      "cell_type": "code",
      "source": [
        "#program on single level inhertance\n",
        "class parents:\n",
        "     def work(self):\n",
        "         print(\"my parents are doingforming\")\n",
        "\n",
        "class children(parents):\n",
        "     def study(self):\n",
        "         print(\"my children are doing studying\")\n",
        "\n",
        "obj=children()\n",
        "obj.study()\n",
        "obj.work()"
      ],
      "metadata": {
        "colab": {
          "base_uri": "https://localhost:8080/"
        },
        "id": "H-lo-jFhdTfQ",
        "outputId": "5e9238fe-a72b-47ed-f41d-88ac1e269fa9"
      },
      "execution_count": 97,
      "outputs": [
        {
          "output_type": "stream",
          "name": "stdout",
          "text": [
            "my children are doing studying\n",
            "my parents are doingforming\n"
          ]
        }
      ]
    },
    {
      "cell_type": "code",
      "source": [
        "#program on multiple inheritance\n",
        "class father:\n",
        "     def hi(self):\n",
        "         print(\"my father is my power\")\n",
        "\n",
        "class mother:\n",
        "     def hello(self):\n",
        "         print(\"my mother is my first love\")\n",
        "class child(father, mother):\n",
        "     def bye(self):\n",
        "         print(\"i'm studying in bca chikode\")\n",
        "obj=child()\n",
        "obj.hi()\n",
        "obj.hello()\n",
        "obj.bye()"
      ],
      "metadata": {
        "colab": {
          "base_uri": "https://localhost:8080/"
        },
        "id": "d-Y4J9dBdygP",
        "outputId": "3100348f-8975-43a6-a297-3b14b2b4bc32"
      },
      "execution_count": 100,
      "outputs": [
        {
          "output_type": "stream",
          "name": "stdout",
          "text": [
            "my father is my power\n",
            "my mother is my first love\n",
            "i'm studying in bca chikode\n"
          ]
        }
      ]
    },
    {
      "cell_type": "code",
      "source": [
        "#program on multi level inheritance\n",
        "class grand_parents:\n",
        "     def namaskar(self):\n",
        "         print(\"my grand parents are my inspiration\")\n",
        "class parents:\n",
        "     def hi(self):\n",
        "         print(\"my parents my first priorty\")\n",
        "class child(grand_parents,parents):\n",
        "     def bye(self):\n",
        "         print(\"i'm studying in BK bba bca college chikode\")\n",
        "obj=child()\n",
        "obj.namaskar()\n",
        "obj.hi()\n",
        "obj.bye()\n",
        "\n"
      ],
      "metadata": {
        "colab": {
          "base_uri": "https://localhost:8080/"
        },
        "id": "wG0vr5nre9x4",
        "outputId": "8ad6bea0-24bf-49a2-face-15075d10991c"
      },
      "execution_count": 104,
      "outputs": [
        {
          "output_type": "stream",
          "name": "stdout",
          "text": [
            "my grand parents are my inspiration\n",
            "my parents my first priorty\n",
            "i'm studying in BK bba bca college chikode\n"
          ]
        }
      ]
    },
    {
      "cell_type": "code",
      "source": [
        "#hirarchial inheritence\n",
        "class parents:\n",
        "     def hi(self):\n",
        "         print(\"my parents are my world\")\n",
        "class child_1:\n",
        "     def hello(self):\n",
        "         print(\"i'm child 1\")\n",
        "class child_2(parents,child_1):\n",
        "     def bye(self):\n",
        "         print(\"i'm child 2\")\n",
        "obj=child_2()\n",
        "obj.hi()\n",
        "obj.hello()\n",
        "obj.bye()"
      ],
      "metadata": {
        "colab": {
          "base_uri": "https://localhost:8080/"
        },
        "id": "CTOT3yD-gUC3",
        "outputId": "1d9ff312-7665-43d8-996c-43119b7ff5d7"
      },
      "execution_count": 107,
      "outputs": [
        {
          "output_type": "stream",
          "name": "stdout",
          "text": [
            "my parents are my world\n",
            "i'm child 1\n",
            "i'm child 2\n"
          ]
        }
      ]
    },
    {
      "cell_type": "code",
      "source": [
        " class A :\n",
        "   def hi(self):\n",
        "      print(\"hiiiiiiiiii\")\n",
        " class B(A):\n",
        "   def hello(self):\n",
        "      print(\"helloooooooo\")\n",
        " class C(B):\n",
        "   def bye(self):\n",
        "      print(\"byeeeeeeeeee\")\n",
        " class D(C):\n",
        "   def good(self):\n",
        "      print(\"good morning\")\n",
        "obj=D()\n",
        "obj.hi()\n",
        "obj.hello()\n",
        "obj.bye()\n",
        "obj.good()\n"
      ],
      "metadata": {
        "colab": {
          "base_uri": "https://localhost:8080/"
        },
        "id": "HMUPxBQijQM2",
        "outputId": "84919ec8-49b5-406b-cfc9-0752d5b3ab07"
      },
      "execution_count": 114,
      "outputs": [
        {
          "output_type": "stream",
          "name": "stdout",
          "text": [
            "hiiiiiiiiii\n",
            "helloooooooo\n",
            "byeeeeeeeeee\n",
            "good morning\n"
          ]
        }
      ]
    }
  ],
  "metadata": {
    "colab": {
      "provenance": []
    },
    "kernelspec": {
      "display_name": "Python 3",
      "name": "python3"
    },
    "language_info": {
      "name": "python"
    }
  },
  "nbformat": 4,
  "nbformat_minor": 0
}