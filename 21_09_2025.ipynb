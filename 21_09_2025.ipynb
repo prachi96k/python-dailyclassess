{
  "nbformat": 4,
  "nbformat_minor": 0,
  "metadata": {
    "colab": {
      "provenance": []
    },
    "kernelspec": {
      "name": "python3",
      "display_name": "Python 3"
    },
    "language_info": {
      "name": "python"
    }
  },
  "cells": [
    {
      "cell_type": "code",
      "execution_count": 1,
      "metadata": {
        "colab": {
          "base_uri": "https://localhost:8080/"
        },
        "id": "iGNHs5IebcK5",
        "outputId": "3768cf4f-83fb-4982-c4ed-c8059d1ed144"
      },
      "outputs": [
        {
          "output_type": "stream",
          "name": "stdout",
          "text": [
            "numpy array: [1 2 3 4 5]\n"
          ]
        }
      ],
      "source": [
        "import numpy as prachi\n",
        "arr=prachi.array([1,2,3,4,5])\n",
        "print(\"numpy array:\",arr)"
      ]
    },
    {
      "cell_type": "code",
      "source": [
        "import numpy as np\n",
        "zeros=np.zeros(5)\n",
        "ones=np.ones(5)\n",
        "print(\"zeros:\", zeros)\n",
        "print(\"ones:\", ones)"
      ],
      "metadata": {
        "colab": {
          "base_uri": "https://localhost:8080/"
        },
        "id": "5fLBbxd7ihTR",
        "outputId": "44840a19-255c-4387-8891-1e829110c37f"
      },
      "execution_count": 2,
      "outputs": [
        {
          "output_type": "stream",
          "name": "stdout",
          "text": [
            "zeros: [0. 0. 0. 0. 0.]\n",
            "ones: [1. 1. 1. 1. 1.]\n"
          ]
        }
      ]
    },
    {
      "cell_type": "code",
      "source": [
        "from binascii import b2a_qp\n",
        "import numpy as np\n",
        "a= np.array([10, 20, 30])\n",
        "b= np.array([1, 2, 3])\n",
        "print(\"addition:\", a+b)\n",
        "print(\"multiplicatiom:\",a*b)"
      ],
      "metadata": {
        "colab": {
          "base_uri": "https://localhost:8080/"
        },
        "id": "Vgn4ed0GjM7H",
        "outputId": "d8ce3c5f-fdd1-4b26-8a3f-d3784ec7e1a5"
      },
      "execution_count": 3,
      "outputs": [
        {
          "output_type": "stream",
          "name": "stdout",
          "text": [
            "addition: [11 22 33]\n",
            "multiplicatiom: [10 40 90]\n"
          ]
        }
      ]
    },
    {
      "cell_type": "code",
      "source": [
        "import numpy as np\n",
        "arr = np.array([1, 4, 9, 16])\n",
        "print(\"square root:\", np.sqrt(arr))\n",
        "print(\"mean:\", np.mean(arr))"
      ],
      "metadata": {
        "colab": {
          "base_uri": "https://localhost:8080/"
        },
        "id": "u3uc9_NfkQjQ",
        "outputId": "b1ac0b9b-c831-4f02-98c2-701a605c14e9"
      },
      "execution_count": 5,
      "outputs": [
        {
          "output_type": "stream",
          "name": "stdout",
          "text": [
            "square root: [1. 2. 3. 4.]\n",
            "mean: 7.5\n"
          ]
        }
      ]
    },
    {
      "cell_type": "code",
      "source": [
        "import numpy as np\n",
        "from scipy import stats\n",
        "data = np.array([2,4,6,8,10,12,16])\n",
        "mean=np.mean(data)\n",
        "median=np.median(data)\n",
        "mode=stats.mode(data)\n",
        "range = np.max(data) - np.min(data)\n",
        "print(\"mean value is:\",mean)\n",
        "print(\"median:\",median)\n",
        "print(\"mode:\",mode)\n",
        "print(\"range value is:\",range)\n"
      ],
      "metadata": {
        "colab": {
          "base_uri": "https://localhost:8080/"
        },
        "id": "s2fZJN9Zk9lv",
        "outputId": "fde53215-68b5-45f7-c80a-ec577a33edd6"
      },
      "execution_count": 11,
      "outputs": [
        {
          "output_type": "stream",
          "name": "stdout",
          "text": [
            "mean value is: 8.285714285714286\n",
            "median: 8.0\n",
            "mode: ModeResult(mode=np.int64(2), count=np.int64(1))\n",
            "range value is: 14\n"
          ]
        }
      ]
    },
    {
      "cell_type": "code",
      "source": [
        "import numpy as np\n",
        "matrix = np.array([[1,2],[3,4]])\n",
        "print(\"matrix:\\n\",matrix)\n",
        "print(\"transpose:\\n\",matrix.T)"
      ],
      "metadata": {
        "colab": {
          "base_uri": "https://localhost:8080/"
        },
        "id": "sZj2C1WFpEPG",
        "outputId": "cf312121-f0cd-430f-d980-37ef07c6724c"
      },
      "execution_count": 12,
      "outputs": [
        {
          "output_type": "stream",
          "name": "stdout",
          "text": [
            "matrix:\n",
            " [[1 2]\n",
            " [3 4]]\n",
            "transpose:\n",
            " [[1 3]\n",
            " [2 4]]\n"
          ]
        }
      ]
    }
  ]
}