{
  "nbformat": 4,
  "nbformat_minor": 0,
  "metadata": {
    "colab": {
      "provenance": []
    },
    "kernelspec": {
      "name": "python3",
      "display_name": "Python 3"
    },
    "language_info": {
      "name": "python"
    }
  },
  "cells": [
    {
      "cell_type": "code",
      "execution_count": 134,
      "metadata": {
        "colab": {
          "base_uri": "https://localhost:8080/"
        },
        "id": "eK4BWDM7fL_S",
        "outputId": "594ebc2c-bdaa-464f-efea-c866ede1a454"
      },
      "outputs": [
        {
          "output_type": "stream",
          "name": "stdout",
          "text": [
            "(1, 'prachi', 3.12, False)\n",
            "4\n",
            "<class 'tuple'>\n",
            "1\n",
            "(1, 'prachi', 3.12)\n",
            "False\n",
            "False\n",
            "4\n",
            "<class 'tuple'>\n"
          ]
        }
      ],
      "source": [
        "example = (1,\"prachi\",3.12,False)\n",
        "print(example)\n",
        "print(len(example))\n",
        "print(type(example))\n",
        "print(example.count(1))\n",
        "print(example[0:3])\n",
        "print(example[3])\n",
        "print(example[-1])\n",
        "print(len(example))\n",
        "print(type(example))\n"
      ]
    },
    {
      "cell_type": "code",
      "source": [
        "number=(2,4,7,9,3,2)\n",
        "print(number)\n",
        "add=(2,4,5,7)\n",
        "print(number+add)\n",
        "print(add*4)\n"
      ],
      "metadata": {
        "colab": {
          "base_uri": "https://localhost:8080/"
        },
        "id": "tbkwaRSkl14X",
        "outputId": "2f43b8f8-5293-41f8-fc15-18005bd11d9b"
      },
      "execution_count": 135,
      "outputs": [
        {
          "output_type": "stream",
          "name": "stdout",
          "text": [
            "(2, 4, 7, 9, 3, 2)\n",
            "(2, 4, 7, 9, 3, 2, 2, 4, 5, 7)\n",
            "(2, 4, 5, 7, 2, 4, 5, 7, 2, 4, 5, 7, 2, 4, 5, 7)\n"
          ]
        }
      ]
    },
    {
      "cell_type": "code",
      "source": [
        "example={1,2,2,3,3,4,5,6,7}\n",
        "print(example)\n",
        "print(type(example))\n",
        "print(len(example))\n",
        "example.add(\"BKC\")\n",
        "print(example)\n",
        "example.add(5.67)\n",
        "print(example)\n",
        "example.add(\"True\")\n",
        "print(example)\n",
        "example.remove(4)\n",
        "print(example)\n",
        "print(example.pop())\n",
        "print(example)\n"
      ],
      "metadata": {
        "colab": {
          "base_uri": "https://localhost:8080/"
        },
        "id": "GlnfkmnQofXn",
        "outputId": "3f7d2175-f209-4702-bcf1-95fba0a4e6a4"
      },
      "execution_count": 136,
      "outputs": [
        {
          "output_type": "stream",
          "name": "stdout",
          "text": [
            "{1, 2, 3, 4, 5, 6, 7}\n",
            "<class 'set'>\n",
            "7\n",
            "{1, 2, 3, 4, 5, 6, 7, 'BKC'}\n",
            "{1, 2, 3, 4, 5, 6, 7, 5.67, 'BKC'}\n",
            "{1, 2, 3, 4, 5, 6, 7, 5.67, 'True', 'BKC'}\n",
            "{1, 2, 3, 5, 6, 7, 5.67, 'True', 'BKC'}\n",
            "1\n",
            "{2, 3, 5, 6, 7, 5.67, 'True', 'BKC'}\n"
          ]
        }
      ]
    },
    {
      "cell_type": "code",
      "source": [
        "first={1,2,3,4,4,2}\n",
        "second={3,5,4,6}\n",
        "print(first | second)\n",
        "print(first.union(second))\n",
        "print(first & second)\n",
        "print(first.intersection(second))\n",
        "print(first - second)\n",
        "print(first.difference(second))\n",
        "print(second - first)\n",
        "print(second.difference(first))\n"
      ],
      "metadata": {
        "colab": {
          "base_uri": "https://localhost:8080/"
        },
        "id": "YFYVm5NLtqTN",
        "outputId": "ed75df49-d5e3-4201-cc91-5ebbc73c39b2"
      },
      "execution_count": 137,
      "outputs": [
        {
          "output_type": "stream",
          "name": "stdout",
          "text": [
            "{1, 2, 3, 4, 5, 6}\n",
            "{1, 2, 3, 4, 5, 6}\n",
            "{3, 4}\n",
            "{3, 4}\n",
            "{1, 2}\n",
            "{1, 2}\n",
            "{5, 6}\n",
            "{5, 6}\n"
          ]
        }
      ]
    },
    {
      "cell_type": "code",
      "source": [
        "dict ={\"roll_number\"    :90,\n",
        "       \"name\"           :\"prachi\",\n",
        "       \"gender\"         :\"female\",\n",
        "       \"address\"        :\"gokak\",\n",
        "       \"mobile\"         :8762634100,\n",
        "       \"college\"        : \"KLE BK COLLEGE CHIKODI\",\n",
        "       \"CGPA\"           :7.53,\n",
        "       \"course\"         :\"BCA\",\n",
        "       \"year\"           : 2022\n",
        "}\n",
        "print(dict)\n",
        "print(len(dict))\n",
        "dict[\"gender\"]=\"female\"\n",
        "print(dict)\n",
        "dict[\"age\"]=18\n",
        "print(dict[\"age\"])\n",
        "dict.pop(\"address\")\n",
        "print(dict)\n",
        "dict.popitem()\n",
        "print(dict)\n",
        "print(dict.keys())\n",
        "print(dict.values())\n",
        "print(dict.items())\n",
        "print(dict.clear())"
      ],
      "metadata": {
        "colab": {
          "base_uri": "https://localhost:8080/"
        },
        "id": "k4MXv7JcxwBL",
        "outputId": "9f5f9862-6f6c-4e12-d49d-8f49df0c08fb"
      },
      "execution_count": 138,
      "outputs": [
        {
          "output_type": "stream",
          "name": "stdout",
          "text": [
            "{'roll_number': 90, 'name': 'prachi', 'gender': 'female', 'address': 'gokak', 'mobile': 8762634100, 'college': 'KLE BK COLLEGE CHIKODI', 'CGPA': 7.53, 'course': 'BCA', 'year': 2022}\n",
            "9\n",
            "{'roll_number': 90, 'name': 'prachi', 'gender': 'female', 'address': 'gokak', 'mobile': 8762634100, 'college': 'KLE BK COLLEGE CHIKODI', 'CGPA': 7.53, 'course': 'BCA', 'year': 2022}\n",
            "18\n",
            "{'roll_number': 90, 'name': 'prachi', 'gender': 'female', 'mobile': 8762634100, 'college': 'KLE BK COLLEGE CHIKODI', 'CGPA': 7.53, 'course': 'BCA', 'year': 2022, 'age': 18}\n",
            "{'roll_number': 90, 'name': 'prachi', 'gender': 'female', 'mobile': 8762634100, 'college': 'KLE BK COLLEGE CHIKODI', 'CGPA': 7.53, 'course': 'BCA', 'year': 2022}\n",
            "dict_keys(['roll_number', 'name', 'gender', 'mobile', 'college', 'CGPA', 'course', 'year'])\n",
            "dict_values([90, 'prachi', 'female', 8762634100, 'KLE BK COLLEGE CHIKODI', 7.53, 'BCA', 2022])\n",
            "dict_items([('roll_number', 90), ('name', 'prachi'), ('gender', 'female'), ('mobile', 8762634100), ('college', 'KLE BK COLLEGE CHIKODI'), ('CGPA', 7.53), ('course', 'BCA'), ('year', 2022)])\n",
            "None\n"
          ]
        }
      ]
    },
    {
      "cell_type": "code",
      "source": [
        "dict = {\"bank_number\" : 1234567,\n",
        "         \"name\" :\"prachi kamatagi\",\n",
        "         \"branch_name\":\"RBL BANK\",\n",
        "        \"branch_code\": 988,\n",
        "        \"email_id\": \"prachukamatagidolli@gmail.com\",\n",
        "        \"age\":18,\n",
        "}\n",
        "print(dict)\n",
        "dict[\"balence\"]=\"10,0000\"\n",
        "print(dict)\n",
        "dict.pop(\"name\")\n",
        "print(dict)\n",
        "dict.popitem()\n",
        "print(dict)\n",
        "print(dict.keys())\n",
        "print(dict.values())"
      ],
      "metadata": {
        "colab": {
          "base_uri": "https://localhost:8080/"
        },
        "id": "fNOiN1rt8VHl",
        "outputId": "9e07d9fd-1173-4213-daff-fd87c2a6b26b"
      },
      "execution_count": 139,
      "outputs": [
        {
          "output_type": "stream",
          "name": "stdout",
          "text": [
            "{'bank_number': 1234567, 'name': 'prachi kamatagi', 'branch_name': 'RBL BANK', 'branch_code': 988, 'email_id': 'prachukamatagidolli@gmail.com', 'age': 18}\n",
            "{'bank_number': 1234567, 'name': 'prachi kamatagi', 'branch_name': 'RBL BANK', 'branch_code': 988, 'email_id': 'prachukamatagidolli@gmail.com', 'age': 18, 'balence': '10,0000'}\n",
            "{'bank_number': 1234567, 'branch_name': 'RBL BANK', 'branch_code': 988, 'email_id': 'prachukamatagidolli@gmail.com', 'age': 18, 'balence': '10,0000'}\n",
            "{'bank_number': 1234567, 'branch_name': 'RBL BANK', 'branch_code': 988, 'email_id': 'prachukamatagidolli@gmail.com', 'age': 18}\n",
            "dict_keys(['bank_number', 'branch_name', 'branch_code', 'email_id', 'age'])\n",
            "dict_values([1234567, 'RBL BANK', 988, 'prachukamatagidolli@gmail.com', 18])\n"
          ]
        }
      ]
    },
    {
      "cell_type": "code",
      "source": [
        "Name = {\"Name\": \"prachi\",\n",
        "        \"name\": \"prachi\",\n",
        "        \"F_name\": \"prachi\",\n",
        "        \"L_name\": \"prachi\"\n",
        "}\n",
        "print(Name)"
      ],
      "metadata": {
        "colab": {
          "base_uri": "https://localhost:8080/"
        },
        "id": "nzybOnlAHChi",
        "outputId": "4ce945a2-3621-4586-fea5-d1eeb78726be"
      },
      "execution_count": 140,
      "outputs": [
        {
          "output_type": "stream",
          "name": "stdout",
          "text": [
            "{'Name': 'prachi', 'name': 'prachi', 'F_name': 'prachi', 'L_name': 'prachi'}\n"
          ]
        }
      ]
    },
    {
      "cell_type": "code",
      "source": [
        "a=10\n",
        "b=3\n",
        "c=a+b\n",
        "print(c)\n",
        "print(type(a))\n",
        "print(type(b))\n",
        "print(type(c))\n",
        "print(type(a/b))"
      ],
      "metadata": {
        "colab": {
          "base_uri": "https://localhost:8080/"
        },
        "id": "Npg7TH_QNlZ4",
        "outputId": "43d87a79-373e-47bc-a628-208f8be7e7ce"
      },
      "execution_count": 141,
      "outputs": [
        {
          "output_type": "stream",
          "name": "stdout",
          "text": [
            "13\n",
            "<class 'int'>\n",
            "<class 'int'>\n",
            "<class 'int'>\n",
            "<class 'float'>\n"
          ]
        }
      ]
    },
    {
      "cell_type": "code",
      "source": [
        "x=2.5\n",
        "y=3.5\n",
        "print(type(x+y))\n"
      ],
      "metadata": {
        "colab": {
          "base_uri": "https://localhost:8080/"
        },
        "id": "mgfgNrrYfuK-",
        "outputId": "b977112a-7d05-480e-bf83-ef6c169bfcbe"
      },
      "execution_count": 142,
      "outputs": [
        {
          "output_type": "stream",
          "name": "stdout",
          "text": [
            "<class 'float'>\n"
          ]
        }
      ]
    },
    {
      "cell_type": "code",
      "source": [
        "#\n",
        "i=20\n",
        "j=5.5\n",
        "k=i+j\n",
        "print(type(k))"
      ],
      "metadata": {
        "colab": {
          "base_uri": "https://localhost:8080/"
        },
        "id": "EqGjVfvygexH",
        "outputId": "baa4624b-bac7-4948-8c57-fba493c2707b"
      },
      "execution_count": 143,
      "outputs": [
        {
          "output_type": "stream",
          "name": "stdout",
          "text": [
            "<class 'float'>\n"
          ]
        }
      ]
    },
    {
      "cell_type": "code",
      "source": [
        "a=49\n",
        "b=7\n",
        "print(type(a/b))"
      ],
      "metadata": {
        "colab": {
          "base_uri": "https://localhost:8080/"
        },
        "id": "2qBS5jStg9mU",
        "outputId": "76f29cc9-d7f7-4e8c-bee5-8c508eb617e0"
      },
      "execution_count": 144,
      "outputs": [
        {
          "output_type": "stream",
          "name": "stdout",
          "text": [
            "<class 'float'>\n"
          ]
        }
      ]
    },
    {
      "cell_type": "code",
      "source": [
        "i=True\n",
        "print(type(i))\n",
        "j=5\n",
        "print(type(i+j))"
      ],
      "metadata": {
        "colab": {
          "base_uri": "https://localhost:8080/"
        },
        "id": "tASnHJ66iHnU",
        "outputId": "803621e6-38f8-43f1-d154-372d23dfc598"
      },
      "execution_count": 145,
      "outputs": [
        {
          "output_type": "stream",
          "name": "stdout",
          "text": [
            "<class 'bool'>\n",
            "<class 'int'>\n"
          ]
        }
      ]
    },
    {
      "cell_type": "code",
      "source": [
        "\n",
        "m=2.9\n",
        "n=False\n",
        "o=m-n\n",
        "print(type(o))\n",
        "\n",
        "p=True\n",
        "q=False\n",
        "r=p+q\n",
        "print(type(r))\n",
        "\n",
        "s=2.6\n",
        "t=False\n",
        "print(type(s*t))\n",
        "\n",
        "num=3.12\n",
        "print(type(num))\n",
        "\n",
        "add=int(num)\n",
        "print(type(add))\n",
        "\n",
        "add=(num)\n",
        "print(type(num))\n",
        "\n",
        "mul=float(add)\n",
        "print(type(mul))\n",
        "\n",
        "num=\"101\"\n",
        "print(type(num))\n",
        "\n",
        "add=int(num)\n",
        "print(type(add))\n",
        "\n",
        "op=True\n",
        "print(type(op))\n",
        "\n",
        "po=int(op)\n",
        "print(type(po))\n",
        "\n",
        "print(type(str(10)))\n",
        "\n",
        "print(type(bool(11)))\n",
        "\n",
        "print(type(str(a+b)))\n",
        "\n",
        "print(type(float(True)))\n",
        "\n",
        "ex= float(False)\n",
        "print(ex)\n",
        "print(type(ex))\n",
        "\n",
        "ex=str(\"prachi\")\n",
        "print(type(ex))\n",
        "\n",
        "ex=float(\"9.88\")\n",
        "print(type(ex))\n",
        "\n",
        "ex=bool(\"False\")\n",
        "print(type(ex))\n",
        "\n",
        "\n"
      ],
      "metadata": {
        "colab": {
          "base_uri": "https://localhost:8080/"
        },
        "id": "BUWuFPVhijwe",
        "outputId": "a80868c6-07b1-48f3-c281-3da1e06709a7"
      },
      "execution_count": 173,
      "outputs": [
        {
          "output_type": "stream",
          "name": "stdout",
          "text": [
            "<class 'float'>\n",
            "<class 'int'>\n",
            "<class 'float'>\n",
            "<class 'float'>\n",
            "<class 'int'>\n",
            "<class 'float'>\n",
            "<class 'float'>\n",
            "<class 'str'>\n",
            "<class 'int'>\n",
            "<class 'bool'>\n",
            "<class 'int'>\n",
            "<class 'str'>\n",
            "<class 'bool'>\n",
            "<class 'str'>\n",
            "<class 'float'>\n",
            "0.0\n",
            "<class 'float'>\n",
            "<class 'str'>\n",
            "<class 'float'>\n",
            "<class 'bool'>\n"
          ]
        }
      ]
    },
    {
      "cell_type": "code",
      "source": [
        "\n",
        "num1=\"prachi\"\n",
        "print(type(num1))\n",
        "\n",
        "ex1=tuple(num1)\n",
        "print(type(ex1))\n",
        "\n",
        "n=[1,2]\n",
        "print(type(n))\n",
        "\n",
        "m=tuple(n)\n",
        "print(type(m))\n",
        "\n",
        "a={1,2}\n",
        "print(type(a))\n",
        "\n",
        "b={}\n",
        "print(type(b))\n",
        "\n",
        "c=tuple(b)\n",
        "print(type(c))"
      ],
      "metadata": {
        "colab": {
          "base_uri": "https://localhost:8080/"
        },
        "id": "WVzvg7n_yr7m",
        "outputId": "9ebb1662-bd33-4203-e077-b4ecefbbc0bd"
      },
      "execution_count": 210,
      "outputs": [
        {
          "output_type": "stream",
          "name": "stdout",
          "text": [
            "<class 'str'>\n",
            "<class 'tuple'>\n",
            "<class 'list'>\n",
            "<class 'tuple'>\n",
            "<class 'set'>\n",
            "<class 'dict'>\n",
            "<class 'tuple'>\n"
          ]
        }
      ]
    },
    {
      "cell_type": "code",
      "source": [
        "num1=(\"prachi\")\n",
        "print(type(num1))\n",
        "\n",
        "ex1=list(num1)\n",
        "print(type(ex1))\n",
        "\n",
        "num2=[1,2,3]\n",
        "print(type(num2))\n",
        "\n",
        "ex2=list(num2)\n",
        "print(type(ex2))\n",
        "\n",
        "num3={1,2}\n",
        "print(type(num3))\n",
        "\n",
        "ex3=list(num3)\n",
        "print(type(ex3))\n",
        "\n",
        "num4={}\n",
        "print(type(num4))\n",
        "\n",
        "ex4=list(num4)\n",
        "print(type(ex4))\n",
        "\n",
        "num5=(1,3)\n",
        "print(type(num5))\n",
        "\n",
        "ex5=list(num5)\n",
        "print(type(ex5))"
      ],
      "metadata": {
        "colab": {
          "base_uri": "https://localhost:8080/"
        },
        "id": "_zKdYBw_5BW6",
        "outputId": "e92a56cc-fa57-40b0-8eee-d1969e73f253"
      },
      "execution_count": 222,
      "outputs": [
        {
          "output_type": "stream",
          "name": "stdout",
          "text": [
            "<class 'str'>\n",
            "<class 'list'>\n",
            "<class 'list'>\n",
            "<class 'list'>\n",
            "<class 'set'>\n",
            "<class 'list'>\n",
            "<class 'dict'>\n",
            "<class 'list'>\n",
            "<class 'tuple'>\n",
            "<class 'list'>\n"
          ]
        }
      ]
    },
    {
      "cell_type": "code",
      "source": [
        "\n",
        "a=10\n",
        "b=20\n",
        "print(\"before swaping\")\n",
        "print(\"a=\",a,\"b=\",b)\n",
        "print(\"after swaping\")\n",
        "temp= a\n",
        "a=b\n",
        "b=temp\n",
        "print(\"a=\",a,\"b=\",b)"
      ],
      "metadata": {
        "colab": {
          "base_uri": "https://localhost:8080/"
        },
        "id": "L1pYoJH99iBG",
        "outputId": "2712e0d6-bdec-4a02-b490-5edf60891ff5"
      },
      "execution_count": 225,
      "outputs": [
        {
          "output_type": "stream",
          "name": "stdout",
          "text": [
            "before swaping\n",
            "a= 10 b= 20\n",
            "after swaping\n",
            "a= 20 b= 10\n"
          ]
        }
      ]
    },
    {
      "cell_type": "code",
      "source": [
        "a=10\n",
        "b=20\n",
        "print(\"before swaping\")\n",
        "print(\"a=\",a,\"b\",b)\n",
        "print(\"after swaping\")\n",
        "a=a+b\n",
        "b=a-b\n",
        "a=a-b\n",
        "print(\"a=\",a,\"b=\",b)"
      ],
      "metadata": {
        "colab": {
          "base_uri": "https://localhost:8080/"
        },
        "id": "sxqUtOUE-vY4",
        "outputId": "4a7a6c21-e368-47c7-a862-a4297b992857"
      },
      "execution_count": 226,
      "outputs": [
        {
          "output_type": "stream",
          "name": "stdout",
          "text": [
            "before swaping\n",
            "a= 10 b 20\n",
            "after swaping\n",
            "a= 20 b= 10\n"
          ]
        }
      ]
    },
    {
      "cell_type": "code",
      "source": [],
      "metadata": {
        "id": "qCvhYogbAP5X"
      },
      "execution_count": null,
      "outputs": []
    }
  ]
}