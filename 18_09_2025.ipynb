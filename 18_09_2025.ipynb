{
  "nbformat": 4,
  "nbformat_minor": 0,
  "metadata": {
    "colab": {
      "provenance": []
    },
    "kernelspec": {
      "name": "python3",
      "display_name": "Python 3"
    },
    "language_info": {
      "name": "python"
    }
  },
  "cells": [
    {
      "cell_type": "code",
      "execution_count": 10,
      "metadata": {
        "colab": {
          "base_uri": "https://localhost:8080/"
        },
        "id": "20p5I9kX6_aP",
        "outputId": "76251133-f23b-4048-9ac9-79930cb8e107"
      },
      "outputs": [
        {
          "output_type": "stream",
          "name": "stdout",
          "text": [
            "total values is : 10\n"
          ]
        }
      ],
      "source": [
        "sentence = \"python programing language\"\n",
        "count = 0\n",
        "for ch in sentence :\n",
        "   if ch in \"a e i o u\" :\n",
        "        count +=1\n",
        "print(\"total values is :\",count)"
      ]
    },
    {
      "cell_type": "code",
      "source": [
        "# program on circle\n",
        "radius = float(input(\"enter the area of radius value:\"))\n",
        "base = float(input(\"enter the area of base value:\"))\n",
        "height = float(input(\"enter the area of height value:\"))\n",
        "area = 0.5*base*height\n",
        "print(\"area of radius is :\",radius)"
      ],
      "metadata": {
        "colab": {
          "base_uri": "https://localhost:8080/"
        },
        "id": "zj5XH-3e_VqV",
        "outputId": "9c502d53-341d-495a-c0ee-02293dc2933c"
      },
      "execution_count": 15,
      "outputs": [
        {
          "output_type": "stream",
          "name": "stdout",
          "text": [
            "enter the area of radius value:5\n",
            "enter the area of base value:6\n",
            "enter the area of height value:6\n",
            "area of radius is : 5.0\n"
          ]
        }
      ]
    },
    {
      "cell_type": "code",
      "source": [
        "#program on reactangle\n",
        "length = float(input(\"enter the area of length value:\"))\n",
        "width = float(input(\"enter the area of width value:\"))\n",
        "area = length*width\n",
        "print(\"area of length is :\",area)"
      ],
      "metadata": {
        "colab": {
          "base_uri": "https://localhost:8080/"
        },
        "id": "DDNcjZlxAuys",
        "outputId": "0f959839-ce11-4fb7-feeb-33777112ebf4"
      },
      "execution_count": 17,
      "outputs": [
        {
          "output_type": "stream",
          "name": "stdout",
          "text": [
            "enter the area of length value:10\n",
            "enter the area of width value:5\n",
            "area of length is : 50.0\n"
          ]
        }
      ]
    },
    {
      "cell_type": "code",
      "source": [
        "ex = [5,25,35,28,45,10,15]\n",
        "largest=max(ex)\n",
        "\n",
        "print(\"the largest  number is :\",largest)"
      ],
      "metadata": {
        "colab": {
          "base_uri": "https://localhost:8080/"
        },
        "id": "Wtk1P8o7BJx7",
        "outputId": "88002cc2-cd14-4484-8ae8-43dc5780ac17"
      },
      "execution_count": 19,
      "outputs": [
        {
          "output_type": "stream",
          "name": "stdout",
          "text": [
            "the largest  number is : 45\n"
          ]
        }
      ]
    },
    {
      "cell_type": "code",
      "source": [
        "#write a program count of consonents in string value\n",
        "\n",
        "sentence = \"bachelor of computer science first semester section c\"\n",
        "count = 0\n",
        "for ch in sentence :\n",
        "   if ch not in \"a e i o u\" :\n",
        "        count += 1\n",
        "print(\"total values is :\",count)"
      ],
      "metadata": {
        "colab": {
          "base_uri": "https://localhost:8080/"
        },
        "id": "aDoy3dkbDiaV",
        "outputId": "65fc4efc-881f-4d40-b1b9-edf309135675"
      },
      "execution_count": 25,
      "outputs": [
        {
          "output_type": "stream",
          "name": "stdout",
          "text": [
            "total values is : 29\n"
          ]
        }
      ]
    },
    {
      "cell_type": "code",
      "source": [
        "colours = {\"purple\",\"pink\",\"black\",\"white\",\"red\",\"orange\",\n",
        "          \"levender\",\"gray\",\"yellow\",\"maroon\"}\n",
        "for colour in colours :\n",
        "    if colour == \"black\":\n",
        "      break\n",
        "    print(colour)"
      ],
      "metadata": {
        "colab": {
          "base_uri": "https://localhost:8080/"
        },
        "id": "_AylR-ebLpt6",
        "outputId": "4cb31811-fcdc-49ef-803c-6a4e50af73bc"
      },
      "execution_count": 26,
      "outputs": [
        {
          "output_type": "stream",
          "name": "stdout",
          "text": [
            "pink\n",
            "levender\n",
            "yellow\n",
            "red\n",
            "maroon\n",
            "white\n",
            "orange\n",
            "purple\n",
            "gray\n"
          ]
        }
      ]
    },
    {
      "cell_type": "code",
      "source": [
        "fruits = {\"apple\",\"mango\",\"strawberry\",\"dragon fruiy\",\"orange\",\n",
        "          \"avogado\",\"pappaya\",\"pineapple\"}\n",
        "for fruit in fruits :\n",
        "    if fruit == \"avogado\":\n",
        "      break\n",
        "    print(fruit)"
      ],
      "metadata": {
        "colab": {
          "base_uri": "https://localhost:8080/"
        },
        "id": "XOfgOyU6eG5D",
        "outputId": "8b5e57d7-cf73-47a0-e55b-63afa535484f"
      },
      "execution_count": 29,
      "outputs": [
        {
          "output_type": "stream",
          "name": "stdout",
          "text": [
            "apple\n",
            "pineapple\n",
            "orange\n",
            "mango\n",
            "dragon fruiy\n",
            "strawberry\n",
            "pappaya\n"
          ]
        }
      ]
    },
    {
      "cell_type": "code",
      "source": [
        "for i in range(10):\n",
        "    for j in range(10):\n",
        "        print(\"***\",end=\" \")\n",
        "    print()"
      ],
      "metadata": {
        "colab": {
          "base_uri": "https://localhost:8080/"
        },
        "id": "cHtB6L4kpn84",
        "outputId": "41f1fc87-b545-4e03-dfb0-5ffc65fec7f5"
      },
      "execution_count": 41,
      "outputs": [
        {
          "output_type": "stream",
          "name": "stdout",
          "text": [
            "*** *** *** *** *** *** *** *** *** *** \n",
            "*** *** *** *** *** *** *** *** *** *** \n",
            "*** *** *** *** *** *** *** *** *** *** \n",
            "*** *** *** *** *** *** *** *** *** *** \n",
            "*** *** *** *** *** *** *** *** *** *** \n",
            "*** *** *** *** *** *** *** *** *** *** \n",
            "*** *** *** *** *** *** *** *** *** *** \n",
            "*** *** *** *** *** *** *** *** *** *** \n",
            "*** *** *** *** *** *** *** *** *** *** \n",
            "*** *** *** *** *** *** *** *** *** *** \n"
          ]
        }
      ]
    },
    {
      "cell_type": "code",
      "source": [
        "for i in range(10):\n",
        "    for j in range(10):\n",
        "       print(j,end=\" \")\n",
        "    print()"
      ],
      "metadata": {
        "colab": {
          "base_uri": "https://localhost:8080/"
        },
        "id": "Uo26QvicpoGg",
        "outputId": "02f8f046-588e-4f6b-f852-305018c384ce"
      },
      "execution_count": 40,
      "outputs": [
        {
          "output_type": "stream",
          "name": "stdout",
          "text": [
            "0 1 2 3 4 5 6 7 8 9 \n",
            "0 1 2 3 4 5 6 7 8 9 \n",
            "0 1 2 3 4 5 6 7 8 9 \n",
            "0 1 2 3 4 5 6 7 8 9 \n",
            "0 1 2 3 4 5 6 7 8 9 \n",
            "0 1 2 3 4 5 6 7 8 9 \n",
            "0 1 2 3 4 5 6 7 8 9 \n",
            "0 1 2 3 4 5 6 7 8 9 \n",
            "0 1 2 3 4 5 6 7 8 9 \n",
            "0 1 2 3 4 5 6 7 8 9 \n"
          ]
        }
      ]
    },
    {
      "cell_type": "code",
      "source": [
        "for i in range(11,0,-1):\n",
        "    for j in range(i):\n",
        "       print(j,end=\" \")\n",
        "    print()"
      ],
      "metadata": {
        "colab": {
          "base_uri": "https://localhost:8080/"
        },
        "id": "xODy6i3prlo_",
        "outputId": "f7fa8f21-b20b-4346-f067-aead871d5347"
      },
      "execution_count": 62,
      "outputs": [
        {
          "output_type": "stream",
          "name": "stdout",
          "text": [
            "0 1 2 3 4 5 6 7 8 9 10 \n",
            "0 1 2 3 4 5 6 7 8 9 \n",
            "0 1 2 3 4 5 6 7 8 \n",
            "0 1 2 3 4 5 6 7 \n",
            "0 1 2 3 4 5 6 \n",
            "0 1 2 3 4 5 \n",
            "0 1 2 3 4 \n",
            "0 1 2 3 \n",
            "0 1 2 \n",
            "0 1 \n",
            "0 \n"
          ]
        }
      ]
    },
    {
      "cell_type": "code",
      "source": [
        "for i in range(8):\n",
        "    for j in range(0,i+1):\n",
        "       print(\" \",end=\" \")\n",
        "    for j in range(8):\n",
        "       print(\"*\",end=\" \")\n",
        "    print()\n",
        ""
      ],
      "metadata": {
        "colab": {
          "base_uri": "https://localhost:8080/"
        },
        "id": "Uu5Gtkb7-yJO",
        "outputId": "efdce7a9-e0b5-4d0e-c1fa-955e75d4ecc7"
      },
      "execution_count": 63,
      "outputs": [
        {
          "output_type": "stream",
          "name": "stdout",
          "text": [
            "  * * * * * * * * \n",
            "    * * * * * * * * \n",
            "      * * * * * * * * \n",
            "        * * * * * * * * \n",
            "          * * * * * * * * \n",
            "            * * * * * * * * \n",
            "              * * * * * * * * \n",
            "                * * * * * * * * \n"
          ]
        }
      ]
    },
    {
      "cell_type": "code",
      "source": [
        "for i in range(8):\n",
        "    for j in range(i+1,8):\n",
        "       print(\"\",end=\" \")\n",
        "    for j in range(8):\n",
        "       print(\"**\",end=\" \")\n",
        "    print()"
      ],
      "metadata": {
        "colab": {
          "base_uri": "https://localhost:8080/"
        },
        "id": "5XoAX9NB_YnL",
        "outputId": "27c20ced-349a-4f45-913d-279c13263b56"
      },
      "execution_count": 84,
      "outputs": [
        {
          "output_type": "stream",
          "name": "stdout",
          "text": [
            "       ** ** ** ** ** ** ** ** \n",
            "      ** ** ** ** ** ** ** ** \n",
            "     ** ** ** ** ** ** ** ** \n",
            "    ** ** ** ** ** ** ** ** \n",
            "   ** ** ** ** ** ** ** ** \n",
            "  ** ** ** ** ** ** ** ** \n",
            " ** ** ** ** ** ** ** ** \n",
            "** ** ** ** ** ** ** ** \n"
          ]
        }
      ]
    },
    {
      "cell_type": "code",
      "source": [
        "row=5\n",
        "col=5\n",
        "for i in range(0,row):\n",
        "    for j in range(0,col):\n",
        "        if i == 0 or j == 0 or i == row-1 or j == col-1:\n",
        "           print(\"\",end=\" \")\n",
        "        else:\n",
        "           print(\" \",end=\" \")\n",
        "    print()\n",
        ""
      ],
      "metadata": {
        "colab": {
          "base_uri": "https://localhost:8080/"
        },
        "id": "WxXuXFSQBQMM",
        "outputId": "ca9fdf43-5aa9-40d9-bdb6-77b3cc424161"
      },
      "execution_count": 91,
      "outputs": [
        {
          "output_type": "stream",
          "name": "stdout",
          "text": [
            "* * * * * \n",
            "*       * \n",
            "*       * \n",
            "*       * \n",
            "* * * * * \n"
          ]
        }
      ]
    },
    {
      "cell_type": "code",
      "source": [
        "for i in range(10):\n",
        "    for j in range(i):\n",
        "        print(\"*\",end=\" \")\n",
        "    print()"
      ],
      "metadata": {
        "colab": {
          "base_uri": "https://localhost:8080/"
        },
        "id": "iA5cq0VUF0t7",
        "outputId": "61f9846e-570b-46fb-9cfb-cb2d25f37bc1"
      },
      "execution_count": 92,
      "outputs": [
        {
          "output_type": "stream",
          "name": "stdout",
          "text": [
            "\n",
            "* \n",
            "* * \n",
            "* * * \n",
            "* * * * \n",
            "* * * * * \n",
            "* * * * * * \n",
            "* * * * * * * \n",
            "* * * * * * * * \n",
            "* * * * * * * * * \n"
          ]
        }
      ]
    },
    {
      "cell_type": "code",
      "source": [
        "num =10\n",
        "for i in range(0,num):\n",
        "    for j in range(0,num-i-1):\n",
        "        print(\" \",end=\" \")\n",
        "    for j in range(0,i*2+1):\n",
        "        print(\"*\",end=\" \")\n",
        "    print()\n",
        "for i in range(0,num):\n",
        "    for j in range(0,i):\n",
        "        print(\" \",end=\" \")\n",
        "    for j in range(0,(num-i)*2-1):\n",
        "        print(\"*\",end=\" \")\n",
        "    print()\n",
        "\n"
      ],
      "metadata": {
        "colab": {
          "base_uri": "https://localhost:8080/"
        },
        "id": "zU_sCkDLHBHc",
        "outputId": "f7994b54-e295-4e07-ca87-a43abaf2da19"
      },
      "execution_count": 118,
      "outputs": [
        {
          "output_type": "stream",
          "name": "stdout",
          "text": [
            "                  * \n",
            "                * * * \n",
            "              * * * * * \n",
            "            * * * * * * * \n",
            "          * * * * * * * * * \n",
            "        * * * * * * * * * * * \n",
            "      * * * * * * * * * * * * * \n",
            "    * * * * * * * * * * * * * * * \n",
            "  * * * * * * * * * * * * * * * * * \n",
            "* * * * * * * * * * * * * * * * * * * \n",
            "* * * * * * * * * * * * * * * * * * * \n",
            "  * * * * * * * * * * * * * * * * * \n",
            "    * * * * * * * * * * * * * * * \n",
            "      * * * * * * * * * * * * * \n",
            "        * * * * * * * * * * * \n",
            "          * * * * * * * * * \n",
            "            * * * * * * * \n",
            "              * * * * * \n",
            "                * * * \n",
            "                  * \n"
          ]
        }
      ]
    },
    {
      "cell_type": "code",
      "metadata": {
        "colab": {
          "base_uri": "https://localhost:8080/"
        },
        "id": "d50d7473",
        "outputId": "34574a6c-c0dd-44e1-c510-b6e43ec44da0"
      },
      "source": [
        "# 1 example\n",
        "\n",
        "def ex():\n",
        "    print(\"good afternoon\")\n",
        "\n",
        "ex()\n"
      ],
      "execution_count": 120,
      "outputs": [
        {
          "output_type": "stream",
          "name": "stdout",
          "text": [
            "good afternoon\n"
          ]
        }
      ]
    },
    {
      "cell_type": "code",
      "source": [
        "def fun (num):\n",
        "    return num*num\n",
        "fun(4)"
      ],
      "metadata": {
        "colab": {
          "base_uri": "https://localhost:8080/"
        },
        "id": "AQESYWGfSFeM",
        "outputId": "7ae618a6-cb7c-4c5d-8603-d4ee2b79efa1"
      },
      "execution_count": 121,
      "outputs": [
        {
          "output_type": "execute_result",
          "data": {
            "text/plain": [
              "16"
            ]
          },
          "metadata": {},
          "execution_count": 121
        }
      ]
    },
    {
      "cell_type": "code",
      "source": [
        "def add(a,b):\n",
        "   print(f'addtion of num is {a+b}')\n",
        "add(5,10)"
      ],
      "metadata": {
        "colab": {
          "base_uri": "https://localhost:8080/"
        },
        "id": "O8hzuYu_SXt-",
        "outputId": "fd86b10f-d39e-4335-9216-0181dc9f7c85"
      },
      "execution_count": 122,
      "outputs": [
        {
          "output_type": "stream",
          "name": "stdout",
          "text": [
            "addtion of num is 15\n"
          ]
        }
      ]
    },
    {
      "cell_type": "code",
      "source": [],
      "metadata": {
        "id": "OQQDvmgvUVYX"
      },
      "execution_count": 124,
      "outputs": []
    }
  ]
}