{
  "nbformat": 4,
  "nbformat_minor": 0,
  "metadata": {
    "colab": {
      "provenance": []
    },
    "kernelspec": {
      "name": "python3",
      "display_name": "Python 3"
    },
    "language_info": {
      "name": "python"
    }
  },
  "cells": [
    {
      "cell_type": "code",
      "execution_count": null,
      "metadata": {
        "colab": {
          "base_uri": "https://localhost:8080/"
        },
        "id": "HO_qf54hLvN7",
        "outputId": "aa841497-735d-4dfb-fe35-dbfcfd79b590"
      },
      "outputs": [
        {
          "output_type": "stream",
          "name": "stdout",
          "text": [
            "b is greater no\n"
          ]
        }
      ],
      "source": [
        "a,b,c=20,50,40\n",
        "if a > b :\n",
        "  if a > c:\n",
        "      print(\"a is greater no\")\n",
        "  else :\n",
        "      print(\"c is greater no\")\n",
        "else :\n",
        "     if b>c:\n",
        "         print(\"b is greater no\")\n",
        "     else :\n",
        "         print(\"c is greater no\")"
      ]
    },
    {
      "cell_type": "code",
      "source": [
        "num=int(input(\"enter no value is :\"))\n",
        "if num>=0:\n",
        "   if num == 0:\n",
        "      print(\"zero value\")\n",
        "   else:\n",
        "      print(\"positive number\")\n",
        "else:\n",
        "      print(\"negative no\")"
      ],
      "metadata": {
        "colab": {
          "base_uri": "https://localhost:8080/"
        },
        "id": "zHApkPG4Vsz5",
        "outputId": "88b517ef-85fc-41b6-e3fc-0ee90b6627d5"
      },
      "execution_count": null,
      "outputs": [
        {
          "output_type": "stream",
          "name": "stdout",
          "text": [
            "enter no value is :0\n",
            "zero value\n"
          ]
        }
      ]
    },
    {
      "cell_type": "code",
      "source": [
        "#write a program  arithmatic operations using match/switch statement\n",
        "x,y =10,20\n",
        "option = input(\"enter your choice option\")\n",
        "match option :\n",
        "  case  '+':\n",
        "    print(\"sum of value \",x+y)\n",
        "  case '-':\n",
        "   print:(\"substraction of values \",x-y)\n",
        "  case'*':\n",
        "    print(\"multiplication of values \",x*y)\n",
        "  case'/':\n",
        "    print(\"division of values \",x/y)\n",
        "  case'%':\n",
        "    print(\"modulous of values\",x%y)\n",
        "  case '_':\n",
        "    print(\"invalide operater\")\n",
        "  case '!=' :\n",
        "    print(\"its not equal\",x!=y)"
      ],
      "metadata": {
        "colab": {
          "base_uri": "https://localhost:8080/"
        },
        "id": "5upfkyJMWyh_",
        "outputId": "3077405a-5821-4912-e4d9-f3917e8bfe59"
      },
      "execution_count": null,
      "outputs": [
        {
          "output_type": "stream",
          "name": "stdout",
          "text": [
            "enter your choice option!=\n",
            "its not equal True\n"
          ]
        }
      ]
    },
    {
      "cell_type": "code",
      "source": [
        "day =int(input(\"enter the day\"))\n",
        "match day:\n",
        "  case 1: print(\"monday\")\n",
        "  case 2: print(\"tuesday\")\n",
        "  case 3: print(\"wednesday\")\n",
        "  case 4: print(\"thursday\")\n",
        "  case 5: print(\"friday\")\n",
        "  case 6: print(\"saturday\")\n",
        "  case 7: print(\"sunday \")\n",
        "\n",
        "\n"
      ],
      "metadata": {
        "colab": {
          "base_uri": "https://localhost:8080/"
        },
        "id": "JtHPUKQ8fOJu",
        "outputId": "1659d3eb-523b-4470-b334-fed901eb30fb"
      },
      "execution_count": null,
      "outputs": [
        {
          "output_type": "stream",
          "name": "stdout",
          "text": [
            "enter the day6\n",
            "saturday\n"
          ]
        }
      ]
    },
    {
      "cell_type": "code",
      "source": [
        "months=int(input(\"enter the months :\"))\n",
        "match months:\n",
        "  case 1 :print(\"january\")\n",
        "  case 2 : print(\"febuary\")\n",
        "  case 3 : print(\"march\")\n",
        "  case 4 : print(\"april\")\n",
        "  case 5 : print(\"may\")\n",
        "  case 6 : print(\"june\")\n",
        "  case 7 : print(\"july\")\n",
        "  case 8 : print(\"augst\")\n",
        "  case 9 : print(\"september\")\n",
        "  case 10 : print(\"october\")\n",
        "  case 11 : print(\"november\")\n",
        "  case 12 : print(\"december\")"
      ],
      "metadata": {
        "colab": {
          "base_uri": "https://localhost:8080/"
        },
        "id": "oS6Y3xEPif-s",
        "outputId": "b5e17004-4f99-4842-eb84-c53f0e2fedc3"
      },
      "execution_count": null,
      "outputs": [
        {
          "output_type": "stream",
          "name": "stdout",
          "text": [
            "enter the months :4\n",
            "april\n"
          ]
        }
      ]
    },
    {
      "cell_type": "code",
      "source": [
        "i = 1\n",
        "while i <= 60 :\n",
        "      print(i)\n",
        "      i +=1"
      ],
      "metadata": {
        "colab": {
          "base_uri": "https://localhost:8080/"
        },
        "id": "eWWcMnQVjYss",
        "outputId": "649dbadd-0d01-4acd-bd55-f64137f385fd"
      },
      "execution_count": null,
      "outputs": [
        {
          "output_type": "stream",
          "name": "stdout",
          "text": [
            "1\n",
            "2\n",
            "3\n",
            "4\n",
            "5\n",
            "6\n",
            "7\n",
            "8\n",
            "9\n",
            "10\n",
            "11\n",
            "12\n",
            "13\n",
            "14\n",
            "15\n",
            "16\n",
            "17\n",
            "18\n",
            "19\n",
            "20\n",
            "21\n",
            "22\n",
            "23\n",
            "24\n",
            "25\n",
            "26\n",
            "27\n",
            "28\n",
            "29\n",
            "30\n",
            "31\n",
            "32\n",
            "33\n",
            "34\n",
            "35\n",
            "36\n",
            "37\n",
            "38\n",
            "39\n",
            "40\n",
            "41\n",
            "42\n",
            "43\n",
            "44\n",
            "45\n",
            "46\n",
            "47\n",
            "48\n",
            "49\n",
            "50\n",
            "51\n",
            "52\n",
            "53\n",
            "54\n",
            "55\n",
            "56\n",
            "57\n",
            "58\n",
            "59\n",
            "60\n"
          ]
        }
      ]
    },
    {
      "cell_type": "code",
      "source": [
        "#write the program on sum of n natural no\n",
        "i=1\n",
        "add = 0\n",
        "while i <= 10:\n",
        "      add=add+i\n",
        "      i=i+1\n",
        "      print(add)\n",
        "\n"
      ],
      "metadata": {
        "colab": {
          "base_uri": "https://localhost:8080/"
        },
        "id": "CAwkByJhm6Sl",
        "outputId": "70fa44d1-3d80-494d-97ac-e45469f4d8b6"
      },
      "execution_count": null,
      "outputs": [
        {
          "output_type": "stream",
          "name": "stdout",
          "text": [
            "1\n",
            "3\n",
            "6\n",
            "10\n",
            "15\n",
            "21\n",
            "28\n",
            "36\n",
            "45\n",
            "55\n"
          ]
        }
      ]
    },
    {
      "cell_type": "code",
      "source": [
        "num=5\n",
        "i=1\n",
        "while i<=10:\n",
        "  print(\"5 *\",i,\"=\",num*i)\n",
        "  i=i+1"
      ],
      "metadata": {
        "colab": {
          "base_uri": "https://localhost:8080/"
        },
        "id": "H3Z7-IYurlGS",
        "outputId": "8e19df9d-9d76-4664-b606-74551990a7e7"
      },
      "execution_count": null,
      "outputs": [
        {
          "output_type": "stream",
          "name": "stdout",
          "text": [
            "5 * 1 = 5\n",
            "5 * 2 = 10\n",
            "5 * 3 = 15\n",
            "5 * 4 = 20\n",
            "5 * 5 = 25\n",
            "5 * 6 = 30\n",
            "5 * 7 = 35\n",
            "5 * 8 = 40\n",
            "5 * 9 = 45\n",
            "5 * 10 = 50\n"
          ]
        }
      ]
    },
    {
      "cell_type": "code",
      "source": [
        "num=153\n",
        "rem=0\n",
        "sum=0\n",
        "temp=num\n",
        "while num >0:\n",
        "      rem =num%10\n",
        "      sum =sum+rem*rem*rem\n",
        "      num =sum//10\n",
        "if temp == sum:\n",
        "      print(\"armstrong number\")\n",
        "else :\n",
        "      print(\"not armstrong number\")\n",
        "\n"
      ],
      "metadata": {
        "id": "97T5wh8puRGY"
      },
      "execution_count": null,
      "outputs": []
    },
    {
      "cell_type": "code",
      "source": [
        "num=12321\n",
        "rem=0\n",
        "rev=0\n",
        "temp=num\n",
        "while num>0:\n",
        "      rem = num % 10\n",
        "      rev = rev *10 + rem\n",
        "      num =num //10\n",
        "if temp==rev:\n",
        "   print(\"polindrom number\")\n",
        "else\n",
        "   print(\"not polindrom number\")"
      ],
      "metadata": {
        "id": "zl99aL-X4scu"
      },
      "execution_count": null,
      "outputs": []
    },
    {
      "cell_type": "code",
      "source": [
        "i=2\n",
        "while i<=100:\n",
        "     print(i, end = \" \")\n",
        "     i+=2"
      ],
      "metadata": {
        "id": "rMB1alje5gbG"
      },
      "execution_count": null,
      "outputs": []
    },
    {
      "cell_type": "code",
      "source": [
        "num,a,b = 10,0,1\n",
        "add = 0\n",
        "while i<=num:\n",
        "     print(a, end =\" \")\n",
        "     a,b=b,a+b\n",
        "     i+=1"
      ],
      "metadata": {
        "id": "s0DBax266zZG"
      },
      "execution_count": null,
      "outputs": []
    },
    {
      "cell_type": "code",
      "source": [
        "num = int(input(\"enter a number value :\"))\n",
        "count = 0\n",
        "i=1\n",
        "while i<=num :\n",
        "     if num % i==0:\n",
        "        count+=1\n",
        "if count==2:\n",
        "   print(\"prime number\")\n",
        "else:\n",
        "   print(\"not prime number\")"
      ],
      "metadata": {
        "id": "hyzHfXz97esW"
      },
      "execution_count": null,
      "outputs": []
    }
  ]
}